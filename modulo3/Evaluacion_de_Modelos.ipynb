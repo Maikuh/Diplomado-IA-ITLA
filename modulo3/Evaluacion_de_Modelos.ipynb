{
  "nbformat": 4,
  "nbformat_minor": 0,
  "metadata": {
    "kernelspec": {
      "name": "python3",
      "display_name": "Python 3"
    },
    "colab": {
      "name": "Evaluación_de_Modelos.ipynb",
      "provenance": [],
      "collapsed_sections": []
    }
  },
  "cells": [
    {
      "cell_type": "markdown",
      "metadata": {
        "id": "gOS89VfuF37x",
        "colab_type": "text"
      },
      "source": [
        "# Comparando modelos de Machine Learning en Scikit-learn\n",
        "Creado por [Kevin Markham](https://github.com/mpfrush/Python-Scikit-Learn-Exercises). Traducido y adaptado por Luis Martínez para Diplomado de Inteligencia Artificial en ITLA."
      ]
    },
    {
      "cell_type": "markdown",
      "metadata": {
        "colab_type": "text",
        "id": "FR4lFh6dMtp5"
      },
      "source": [
        "## Requerimientos\n",
        "- Acceso a los cuadernos\n",
        "\n",
        "### Jupyter Notebook\n",
        "- Instalar Jupyter en PC o\n",
        "- Correr Colab en Google Drive\n",
        "\n",
        "### Instalación de Jupyter en PC\n",
        "- Instalar Anaconda\n",
        "- Si instaló Anaconda, debe tener ya Jupyter.\n",
        "- Usar pip install. \n",
        "  - \"python3 -m pip install jupyter\" para Python 3\n",
        "  - \"python -m pip install jupyter\" para Python 2\n",
        "Pueden acceder a: https://jupyter.org/install\n",
        "\n",
        "### Uso de Google Colab\n",
        "- Tener cuenta de Google\n",
        "- Acceder a su Google Drive y crear un cuaderno"
      ]
    },
    {
      "cell_type": "markdown",
      "metadata": {
        "id": "Gr6IWIP-F370",
        "colab_type": "text"
      },
      "source": [
        "## Agenda\n",
        "\n",
        "- ¿Cómo elijo **qué modelo usar** para mi tarea de aprendizaje supervisado?\n",
        "- ¿Cómo elijo los **mejores parámetros de ajuste** para ese modelo?\n",
        "- ¿Cómo calculo el **rendimiento probable de mi modelo** en datos fuera de la muestra?"
      ]
    },
    {
      "cell_type": "markdown",
      "metadata": {
        "id": "191Jyis8F372",
        "colab_type": "text"
      },
      "source": [
        "## Review\n",
        "\n",
        "- Tarea de clasificación: predecir las especies de iris desconocido\n",
        "- Se utilizaron tres modelos de clasificación: KNN (K = 1), KNN (K = 5), regresión logística\n",
        "- Necesita una forma de elegir entre los modelos\n",
        "\n",
        "**Solución:** Procedimientos de evaluación del modelo"
      ]
    },
    {
      "cell_type": "markdown",
      "metadata": {
        "id": "KlnSkGe4F374",
        "colab_type": "text"
      },
      "source": [
        "## Proceso de Evaluación #1: Entrenamiento y Prueba en la base de datos entera"
      ]
    },
    {
      "cell_type": "markdown",
      "metadata": {
        "id": "yaAZMMqcF376",
        "colab_type": "text"
      },
      "source": [
        "1. Entrene el modelo en el **conjunto de datos completo**.\n",
        "2. Pruebe el modelo en el **mismo conjunto de datos** y evalúe qué tan bien lo hicimos comparando los valores de respuesta **predichos** con los valores de respuesta **verdaderos**."
      ]
    },
    {
      "cell_type": "code",
      "metadata": {
        "id": "jplb6nHDF378",
        "colab_type": "code",
        "colab": {}
      },
      "source": [
        "# TODO: Leer la data desde Scikit learn (desde los datasets internos)\n",
        "from sklearn.datasets import load_iris\n",
        "iris = load_iris()\n",
        "\n",
        "# Crear X (atributo) & y (clase)\n",
        "X = iris.data\n",
        "y = iris.target"
      ],
      "execution_count": 2,
      "outputs": []
    },
    {
      "cell_type": "markdown",
      "metadata": {
        "id": "PI12Y19SF38D",
        "colab_type": "text"
      },
      "source": [
        "### Logistic regression"
      ]
    },
    {
      "cell_type": "code",
      "metadata": {
        "id": "wp1AHFX8F38F",
        "colab_type": "code",
        "colab": {
          "base_uri": "https://localhost:8080/",
          "height": 136
        },
        "outputId": "64c207cc-4a47-46f3-d4b4-902405e78e22"
      },
      "source": [
        "# Importar la clase\n",
        "from sklearn.linear_model import LogisticRegression\n",
        "\n",
        "# TODO: Instanciar el modelo (usando parametros por defecto)\n",
        "logreg = LogisticRegression(max_iter=200)\n",
        "\n",
        "# TODO: Entrenar el modelo con la data\n",
        "logreg.fit(X, y)\n",
        "\n",
        "# TODO: Predecir la clase con las observaciones en X\n",
        "logreg.predict(X)"
      ],
      "execution_count": 12,
      "outputs": [
        {
          "output_type": "execute_result",
          "data": {
            "text/plain": [
              "array([0, 0, 0, 0, 0, 0, 0, 0, 0, 0, 0, 0, 0, 0, 0, 0, 0, 0, 0, 0, 0, 0,\n",
              "       0, 0, 0, 0, 0, 0, 0, 0, 0, 0, 0, 0, 0, 0, 0, 0, 0, 0, 0, 0, 0, 0,\n",
              "       0, 0, 0, 0, 0, 0, 1, 1, 1, 1, 1, 1, 1, 1, 1, 1, 1, 1, 1, 1, 1, 1,\n",
              "       1, 1, 1, 1, 2, 1, 1, 1, 1, 1, 1, 2, 1, 1, 1, 1, 1, 2, 1, 1, 1, 1,\n",
              "       1, 1, 1, 1, 1, 1, 1, 1, 1, 1, 1, 1, 2, 2, 2, 2, 2, 2, 1, 2, 2, 2,\n",
              "       2, 2, 2, 2, 2, 2, 2, 2, 2, 2, 2, 2, 2, 2, 2, 2, 2, 2, 2, 2, 2, 2,\n",
              "       2, 2, 2, 2, 2, 2, 2, 2, 2, 2, 2, 2, 2, 2, 2, 2, 2, 2])"
            ]
          },
          "metadata": {
            "tags": []
          },
          "execution_count": 12
        }
      ]
    },
    {
      "cell_type": "code",
      "metadata": {
        "id": "600uUDr2F38O",
        "colab_type": "code",
        "colab": {
          "base_uri": "https://localhost:8080/",
          "height": 34
        },
        "outputId": "7919aa27-fa80-4cc1-d52a-db781f940319"
      },
      "source": [
        "# TODO: Almacenar los valores de clases predecidas (usar el método de Scikit Learn para predecir)\n",
        "y_pred = logreg.predict(X)\n",
        "\n",
        "# TODO: Comprobar cuántas predicciones se generaron (usar método de python para conocer tamaño de una variable)\n",
        "len(y_pred)"
      ],
      "execution_count": 13,
      "outputs": [
        {
          "output_type": "execute_result",
          "data": {
            "text/plain": [
              "150"
            ]
          },
          "metadata": {
            "tags": []
          },
          "execution_count": 13
        }
      ]
    },
    {
      "cell_type": "markdown",
      "metadata": {
        "id": "ihGFRXPuF38T",
        "colab_type": "text"
      },
      "source": [
        "Precisión de clasificación:\n",
        "\n",
        "- **Proporción** de predicciones correctas\n",
        "- **Métrica de evaluación** común para problemas de clasificación"
      ]
    },
    {
      "cell_type": "code",
      "metadata": {
        "id": "O9Muf_bnF38V",
        "colab_type": "code",
        "colab": {
          "base_uri": "https://localhost:8080/",
          "height": 34
        },
        "outputId": "96953ffe-e555-43c3-a2aa-3fdbd244e28d"
      },
      "source": [
        "# Calcular la precisión de clasificación para el modelo de regresión logística\n",
        "# TODO: Importar clase de métricas\n",
        "from sklearn import metrics\n",
        "print(metrics.accuracy_score(y, y_pred))"
      ],
      "execution_count": 14,
      "outputs": [
        {
          "output_type": "stream",
          "text": [
            "0.9733333333333334\n"
          ],
          "name": "stdout"
        }
      ]
    },
    {
      "cell_type": "markdown",
      "metadata": {
        "id": "EGcTSyzrF38Z",
        "colab_type": "text"
      },
      "source": [
        "- Conocido como **precisión de entrenamiento** cuando entrena y prueba el modelo con los mismos datos"
      ]
    },
    {
      "cell_type": "markdown",
      "metadata": {
        "id": "kXgOlPOWF38a",
        "colab_type": "text"
      },
      "source": [
        "### KNN (K=5)"
      ]
    },
    {
      "cell_type": "code",
      "metadata": {
        "id": "RGihKhNpF38b",
        "colab_type": "code",
        "colab": {
          "base_uri": "https://localhost:8080/",
          "height": 34
        },
        "outputId": "6c0b7c46-0bab-4931-d3c5-2934ff667e21"
      },
      "source": [
        "# TODO: Importar KNN Classifier\n",
        "from sklearn.neighbors import KNeighborsClassifier\n",
        "\n",
        "# TODO: Instanciar modelo\n",
        "knn = KNeighborsClassifier(n_neighbors=5)\n",
        "\n",
        "# TODO: Entrenar modelo\n",
        "knn.fit(X, y)\n",
        "\n",
        "# TODO: Predecir con modelo\n",
        "y_pred = knn.predict(X)\n",
        "\n",
        "# TODO: Usar metodo para Precisión de Metrics de SKLEARN\n",
        "print(metrics.accuracy_score(y, y_pred))"
      ],
      "execution_count": 17,
      "outputs": [
        {
          "output_type": "stream",
          "text": [
            "0.9666666666666667\n"
          ],
          "name": "stdout"
        }
      ]
    },
    {
      "cell_type": "markdown",
      "metadata": {
        "id": "AqSy_8qTF38f",
        "colab_type": "text"
      },
      "source": [
        "### KNN (K=1)"
      ]
    },
    {
      "cell_type": "code",
      "metadata": {
        "id": "_YO3YJfuF38g",
        "colab_type": "code",
        "colab": {
          "base_uri": "https://localhost:8080/",
          "height": 34
        },
        "outputId": "734345a0-c56b-4458-8e55-f23756af2a43"
      },
      "source": [
        "# TODO: Instanciar modelo\n",
        "knn = KNeighborsClassifier(n_neighbors=1)\n",
        "\n",
        "# TODO: Entrenar modelo\n",
        "knn.fit(X, y)\n",
        "\n",
        "# TODO: Predecir con modelo\n",
        "y_pred = knn.predict(X)\n",
        "\n",
        "print(metrics.accuracy_score(y, y_pred))"
      ],
      "execution_count": 18,
      "outputs": [
        {
          "output_type": "stream",
          "text": [
            "1.0\n"
          ],
          "name": "stdout"
        }
      ]
    },
    {
      "cell_type": "markdown",
      "metadata": {
        "id": "Lbp4E4CKF38j",
        "colab_type": "text"
      },
      "source": [
        "### Problemas con el entrenamiento y las pruebas en los mismos datos\n",
        "\n",
        "- El objetivo es estimar el rendimiento probable de un modelo en **datos fuera de la muestra**\n",
        "- Pero, maximizar la precisión en entrenamiento genera **modelos demasiado complejos** que no necesariamente generalizarán\n",
        "- Modelos innecesariamente complejos **sobreajustan/overfit** los datos de entrenamiento"
      ]
    },
    {
      "cell_type": "markdown",
      "metadata": {
        "id": "0eK4E4VuF38l",
        "colab_type": "text"
      },
      "source": [
        "![Overfitting](https://github.com/mpfrush/Python-Scikit-Learn-Exercises/raw/0e26828604b503f0d66a5966de1dce57e5e88c2a/images/05_overfitting.png)"
      ]
    },
    {
      "cell_type": "markdown",
      "metadata": {
        "id": "5ht4YlUtF38m",
        "colab_type": "text"
      },
      "source": [
        "*Image Credit: [Overfitting](http://commons.wikimedia.org/wiki/File:Overfitting.svg#/media/File:Overfitting.svg) by Chabacano. Licensed under GFDL via Wikimedia Commons.*"
      ]
    },
    {
      "cell_type": "markdown",
      "metadata": {
        "id": "BUx9-vQ2F38n",
        "colab_type": "text"
      },
      "source": [
        "## Proceso de Evaluación #2: Separación en entrenamiento/prueba"
      ]
    },
    {
      "cell_type": "markdown",
      "metadata": {
        "id": "W22ndcT4F38o",
        "colab_type": "text"
      },
      "source": [
        "1. Divida el conjunto de datos en dos partes: un **conjunto de entrenamiento** y un **conjunto de prueba**.\n",
        "2. Entrene al modelo en el **conjunto de entrenamiento**.\n",
        "3. Pruebe el modelo en el **conjunto de pruebas** y evalúe qué tan bien lo hicimos."
      ]
    },
    {
      "cell_type": "code",
      "metadata": {
        "id": "KLZrJ12bF38p",
        "colab_type": "code",
        "colab": {
          "base_uri": "https://localhost:8080/",
          "height": 51
        },
        "outputId": "ef61e3a1-c0f9-4803-9621-29cd9a04d8df"
      },
      "source": [
        "# TODO: Imprimir la forma/dimension de X & y\n",
        "print(X.shape)\n",
        "print(y.shape)"
      ],
      "execution_count": 19,
      "outputs": [
        {
          "output_type": "stream",
          "text": [
            "(150, 4)\n",
            "(150,)\n"
          ],
          "name": "stdout"
        }
      ]
    },
    {
      "cell_type": "code",
      "metadata": {
        "id": "giUqcX9dF38s",
        "colab_type": "code",
        "colab": {}
      },
      "source": [
        "# Paso 1: Separar X & y en conjunto de entrenamiento y prueba\n",
        "# TODO: Importar metodo para separar en train y test\n",
        "from sklearn.model_selection import train_test_split\n",
        "\n",
        "# TODO: Llamar metodo para separar en train y test\n",
        "X_train, X_test, y_train, y_test = train_test_split(X, y, test_size=0.4, random_state=4)"
      ],
      "execution_count": 20,
      "outputs": []
    },
    {
      "cell_type": "markdown",
      "metadata": {
        "id": "sTIu1MGBF38u",
        "colab_type": "text"
      },
      "source": [
        "![Train/test split](https://github.com/mpfrush/Python-Scikit-Learn-Exercises/raw/0e26828604b503f0d66a5966de1dce57e5e88c2a/images/05_train_test_split.png)"
      ]
    },
    {
      "cell_type": "markdown",
      "metadata": {
        "id": "IMja-wtEF38v",
        "colab_type": "text"
      },
      "source": [
        "¿Qué logró esto?\n",
        "\n",
        "- El modelo puede ser entrenado y probado en **datos diferentes**\n",
        "- Los valores de respuesta (clases) son conocidos para el conjunto de pruebas y, por lo tanto, **las predicciones se pueden evaluar**\n",
        "- **Precisión de prueba** es una mejor estimación que la precisión de entrenamiento del rendimiento fuera de muestra"
      ]
    },
    {
      "cell_type": "code",
      "metadata": {
        "id": "dphSGpbMF38v",
        "colab_type": "code",
        "colab": {
          "base_uri": "https://localhost:8080/",
          "height": 51
        },
        "outputId": "efd16d96-3203-49e3-b4ed-6434604dec9a"
      },
      "source": [
        "# TODO: Imprimir la forma/dimension de los nuevos objetos X\n",
        "print(X_train.shape)\n",
        "print(X_test.shape)"
      ],
      "execution_count": 21,
      "outputs": [
        {
          "output_type": "stream",
          "text": [
            "(90, 4)\n",
            "(60, 4)\n"
          ],
          "name": "stdout"
        }
      ]
    },
    {
      "cell_type": "code",
      "metadata": {
        "id": "xHtujwdnF38y",
        "colab_type": "code",
        "colab": {
          "base_uri": "https://localhost:8080/",
          "height": 51
        },
        "outputId": "bdc971df-0727-4a2a-dd89-5ab3d3f40df2"
      },
      "source": [
        "# TODO: Imprimir la forma/dimension de los nuevos objetos de y\n",
        "print(y_train.shape)\n",
        "print(y_test.shape)"
      ],
      "execution_count": 22,
      "outputs": [
        {
          "output_type": "stream",
          "text": [
            "(90,)\n",
            "(60,)\n"
          ],
          "name": "stdout"
        }
      ]
    },
    {
      "cell_type": "code",
      "metadata": {
        "id": "zL0jYkbOF380",
        "colab_type": "code",
        "colab": {
          "base_uri": "https://localhost:8080/",
          "height": 102
        },
        "outputId": "33f841ac-2982-4399-ca58-a6b4a343f5c6"
      },
      "source": [
        "# Paso 2: Entrenar modelo en conjunto de entrenamiento\n",
        "logreg = LogisticRegression()\n",
        "\n",
        "# TODO: Llamar metodo para Entrenar Modelo\n",
        "logreg.fit(X_train, y_train)"
      ],
      "execution_count": 23,
      "outputs": [
        {
          "output_type": "execute_result",
          "data": {
            "text/plain": [
              "LogisticRegression(C=1.0, class_weight=None, dual=False, fit_intercept=True,\n",
              "                   intercept_scaling=1, l1_ratio=None, max_iter=100,\n",
              "                   multi_class='auto', n_jobs=None, penalty='l2',\n",
              "                   random_state=None, solver='lbfgs', tol=0.0001, verbose=0,\n",
              "                   warm_start=False)"
            ]
          },
          "metadata": {
            "tags": []
          },
          "execution_count": 23
        }
      ]
    },
    {
      "cell_type": "code",
      "metadata": {
        "id": "iKsDVQQbF382",
        "colab_type": "code",
        "colab": {
          "base_uri": "https://localhost:8080/",
          "height": 34
        },
        "outputId": "983e7701-c601-4890-ec33-5db50054ec38"
      },
      "source": [
        "# Paso 3: Hacer predicciones en conjunto de prueba\n",
        "# TODO: Hacer predicion del modelo\n",
        "y_pred = logreg.predict(X_test)\n",
        "\n",
        "# Compare los valores de respuesta reales (y_test) con los valores de respuesta pronosticados (y_pred)\n",
        "print(metrics.accuracy_score(y_test, y_pred))"
      ],
      "execution_count": 24,
      "outputs": [
        {
          "output_type": "stream",
          "text": [
            "0.9666666666666667\n"
          ],
          "name": "stdout"
        }
      ]
    },
    {
      "cell_type": "markdown",
      "metadata": {
        "id": "mB8xtjnQF384",
        "colab_type": "text"
      },
      "source": [
        "Repetir para KNN con K=5:"
      ]
    },
    {
      "cell_type": "code",
      "metadata": {
        "id": "8-3BdLs2F385",
        "colab_type": "code",
        "colab": {
          "base_uri": "https://localhost:8080/",
          "height": 34
        },
        "outputId": "13b00413-ff64-412e-c2cd-0cd88d400128"
      },
      "source": [
        "# TODO: Instanciar KNN\n",
        "knn = KNeighborsClassifier(n_neighbors=5)\n",
        "\n",
        "# TODO: Entrenar modelo\n",
        "knn.fit(X_train, y_train)\n",
        "\n",
        "# TODO: Predecir con modelo\n",
        "y_pred = knn.predict(X_test)\n",
        "\n",
        "print(metrics.accuracy_score(y_test, y_pred))"
      ],
      "execution_count": 25,
      "outputs": [
        {
          "output_type": "stream",
          "text": [
            "0.9666666666666667\n"
          ],
          "name": "stdout"
        }
      ]
    },
    {
      "cell_type": "markdown",
      "metadata": {
        "id": "Cb2X0KaeF387",
        "colab_type": "text"
      },
      "source": [
        "Repetir para KNN con K=1:"
      ]
    },
    {
      "cell_type": "code",
      "metadata": {
        "id": "SJo__24EF388",
        "colab_type": "code",
        "colab": {
          "base_uri": "https://localhost:8080/",
          "height": 34
        },
        "outputId": "c71c13e7-f940-4609-cda7-28e50a58aef2"
      },
      "source": [
        "# TODO: Instanciar KNN\n",
        "knn = KNeighborsClassifier(n_neighbors=1)\n",
        "\n",
        "# TODO: Instanciar modelo\n",
        "knn.fit(X_train, y_train)\n",
        "\n",
        "# TODO: Predecir con modelo\n",
        "y_pred = knn.predict(X_test)\n",
        "\n",
        "print(metrics.accuracy_score(y_test, y_pred))"
      ],
      "execution_count": 26,
      "outputs": [
        {
          "output_type": "stream",
          "text": [
            "0.95\n"
          ],
          "name": "stdout"
        }
      ]
    },
    {
      "cell_type": "markdown",
      "metadata": {
        "id": "2jCIK3NGF38-",
        "colab_type": "text"
      },
      "source": [
        "¿Podemos encontrar un valor aún mejor para K?"
      ]
    },
    {
      "cell_type": "code",
      "metadata": {
        "id": "0tJUh0nvF38_",
        "colab_type": "code",
        "colab": {}
      },
      "source": [
        "# Intente K=1 a K=25 y registre la precisión de la prueba\n",
        "k_range = list(range(1, 26))\n",
        "scores = []\n",
        "for k in k_range:\n",
        "    knn = KNeighborsClassifier(n_neighbors=k)\n",
        "    knn.fit(X_train, y_train)\n",
        "    y_pred = knn.predict(X_test)\n",
        "    scores.append(metrics.accuracy_score(y_test, y_pred))"
      ],
      "execution_count": 27,
      "outputs": []
    },
    {
      "cell_type": "code",
      "metadata": {
        "id": "_wXx0Ft7F39E",
        "colab_type": "code",
        "colab": {
          "base_uri": "https://localhost:8080/",
          "height": 300
        },
        "outputId": "154bcecd-fedc-4660-da1b-3c5c8e487835"
      },
      "source": [
        "# Importe Matplotlib\n",
        "import matplotlib.pyplot as plt\n",
        "\n",
        "# allow plots to appear within the notebook\n",
        "# %matplotlib inline\n",
        "\n",
        "# Trazar la relación entre K y la precisión de la prueba\n",
        "plt.plot(k_range, scores)\n",
        "plt.xlabel('Value of K for KNN')\n",
        "plt.ylabel('Testing Accuracy')"
      ],
      "execution_count": 34,
      "outputs": [
        {
          "output_type": "execute_result",
          "data": {
            "text/plain": [
              "Text(0, 0.5, 'Testing Accuracy')"
            ]
          },
          "metadata": {
            "tags": []
          },
          "execution_count": 34
        },
        {
          "output_type": "display_data",
          "data": {
            "image/png": "[encoded data removed]",
            "text/plain": [
              "<Figure size 432x288 with 1 Axes>"
            ]
          },
          "metadata": {
            "tags": [],
            "needs_background": "light"
          }
        }
      ]
    },
    {
      "cell_type": "markdown",
      "metadata": {
        "id": "3SzVtgJTF39G",
        "colab_type": "text"
      },
      "source": [
        "- **La precisión del entrenamiento** aumenta a medida que aumenta la complejidad del modelo\n",
        "- **Precisión de prueba** penaliza los modelos que son demasiado complejos o no lo suficientemente complejos\n",
        "- Para los modelos KNN, la complejidad está determinada por el valor **de K** (valor más bajo = más complejo)"
      ]
    },
    {
      "cell_type": "markdown",
      "metadata": {
        "id": "8-swbIvsF39H",
        "colab_type": "text"
      },
      "source": [
        "## Predicciones sobre datos fuera de muestra"
      ]
    },
    {
      "cell_type": "code",
      "metadata": {
        "id": "eYYilG_sF39H",
        "colab_type": "code",
        "colab": {
          "base_uri": "https://localhost:8080/",
          "height": 34
        },
        "outputId": "d173f2db-b5ea-4ad8-bb72-c57d49bdd328"
      },
      "source": [
        "# Instanciar el modelo con los parámetros más conocidos\n",
        "knn = KNeighborsClassifier(n_neighbors=11)\n",
        "\n",
        "# Entrenar al modelo con X e y (no X_train e y_train)\n",
        "knn.fit(X, y)\n",
        "\n",
        "# Hacer una predicción para una observación fuera de muestra\n",
        "knn.predict([[3, 5, 4, 2]])"
      ],
      "execution_count": 29,
      "outputs": [
        {
          "output_type": "execute_result",
          "data": {
            "text/plain": [
              "array([1])"
            ]
          },
          "metadata": {
            "tags": []
          },
          "execution_count": 29
        }
      ]
    },
    {
      "cell_type": "markdown",
      "metadata": {
        "id": "WilAuvWKF39K",
        "colab_type": "text"
      },
      "source": [
        "## ¿Desventajas de la división de entrenamiento/prueba?"
      ]
    },
    {
      "cell_type": "markdown",
      "metadata": {
        "id": "hmM-XC6GF39L",
        "colab_type": "text"
      },
      "source": [
        "- Proporciona una **estimación de alta varianza** de precisión para datos fuera de muestra\n",
        "- **La validación cruzada K-fold** supera esta limitación\n",
        "- Pero, la división de tren / prueba sigue siendo útil debido a su **flexibilidad y velocidad**"
      ]
    },
    {
      "cell_type": "markdown",
      "metadata": {
        "id": "NJ2h2u14F39L",
        "colab_type": "text"
      },
      "source": [
        "## Recursos\n",
        "\n",
        "- Quora: [Explicación intuitiva de Overfitting (en Inglés)](http://www.quora.com/What-is-an-intuitive-explanation-of-overfitting/answer/Jessica-Su)\n",
        "- Video: [Visualización de Sesgo y Varianza (en Inglés)](http://work.caltech.edu/library/081.html) (15 minutos) por Abu-Mostafa"
      ]
    }
  ]
}