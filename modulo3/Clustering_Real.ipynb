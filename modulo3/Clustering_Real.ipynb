{
  "nbformat": 4,
  "nbformat_minor": 0,
  "metadata": {
    "kernelspec": {
      "display_name": "Python 3",
      "language": "python",
      "name": "python3"
    },
    "language_info": {
      "codemirror_mode": {
        "name": "ipython",
        "version": 3
      },
      "file_extension": ".py",
      "mimetype": "text/x-python",
      "name": "python",
      "nbconvert_exporter": "python",
      "pygments_lexer": "ipython3",
      "version": "3.6.5"
    },
    "colab": {
      "name": "Clustering_Real.ipynb",
      "provenance": [],
      "collapsed_sections": []
    }
  },
  "cells": [
    {
      "cell_type": "markdown",
      "metadata": {
        "id": "PGm-5t6AmF7Q",
        "colab_type": "text"
      },
      "source": [
        "## Introducción a Aprendizaje Automatico\n",
        "Recopilado y Traducido por Luis Martinez para Diplomado de Inteligencia Artificial en ITLA. Referencia de:  [Tola Alade](https://blog.cambridgespark.com/how-to-determine-the-optimal-number-of-clusters-for-k-means-clustering-14f27070048f) y [Jake VanderPlas](https://colab.research.google.com/github/jakevdp/PythonDataScienceHandbook/blob/master/notebooks/05.11-K-Means.ipynb#scrollTo=a-y2Kc9gk_bL)"
      ]
    },
    {
      "cell_type": "markdown",
      "metadata": {
        "colab_type": "text",
        "id": "FR4lFh6dMtp5"
      },
      "source": [
        "## Requerimientos\n",
        "- Acceso a los cuadernos\n",
        "\n",
        "### Jupyter Notebook\n",
        "- Instalar Jupyter en PC o\n",
        "- Correr Colab en Google Drive\n",
        "\n",
        "### Instalación de Jupyter en PC\n",
        "- Instalar Anaconda\n",
        "- Si instaló Anaconda, debe tener ya Jupyter.\n",
        "- Usar pip install. \n",
        "  - \"python3 -m pip install jupyter\" para Python 3\n",
        "  - \"python -m pip install jupyter\" para Python 2\n",
        "Pueden acceder a: https://jupyter.org/install\n",
        "\n",
        "### Uso de Google Colab\n",
        "- Tener cuenta de Google\n",
        "- Acceder a su Google Drive y crear un cuaderno"
      ]
    },
    {
      "cell_type": "markdown",
      "metadata": {
        "id": "JL8ZZ3TCkhUB",
        "colab_type": "text"
      },
      "source": [
        "# Sin Supervisión: Clustering 1\n",
        "K-means es un tipo de aprendizaje no supervisado y uno de los métodos más populares para agrupar datos no etiquetados en k grupos. Una de las tareas más complicadas en la agrupación es identificar el número apropiado de agrupaciones k."
      ]
    },
    {
      "cell_type": "markdown",
      "metadata": {
        "id": "ECRElxp7hOVN",
        "colab_type": "text"
      },
      "source": [
        "## Leer datos con Pandas\n",
        "\n",
        "**Pandas:** popular biblioteca de Python para exploración, manipulación y análisis de datos"
      ]
    },
    {
      "cell_type": "code",
      "metadata": {
        "id": "mAmceqWnhOVO",
        "colab_type": "code",
        "colab": {}
      },
      "source": [
        "# Manera convencional de importar a Pandas\n",
        "import pandas as pd"
      ],
      "execution_count": 1,
      "outputs": []
    },
    {
      "cell_type": "code",
      "metadata": {
        "id": "NhIiBDZQhOVS",
        "colab_type": "code",
        "colab": {
          "base_uri": "https://localhost:8080/",
          "height": 204
        },
        "outputId": "bd236d19-ece9-40db-e5f9-baa7d8cc083d"
      },
      "source": [
        "# Leer CSV directamente desde una URL y salvar resultados (Use ShareCSV) # Desde http://archive.ics.uci.edu/ml/datasets/Wholesale+customers\n",
        "data = pd.read_csv('http://archive.ics.uci.edu/ml/machine-learning-databases/00292/Wholesale%20customers%20data.csv')\n",
        "\n",
        "# Muestra las primeras 5 filas\n",
        "data.head()"
      ],
      "execution_count": 2,
      "outputs": [
        {
          "output_type": "execute_result",
          "data": {
            "text/html": [
              "<div>\n",
              "<style scoped>\n",
              "    .dataframe tbody tr th:only-of-type {\n",
              "        vertical-align: middle;\n",
              "    }\n",
              "\n",
              "    .dataframe tbody tr th {\n",
              "        vertical-align: top;\n",
              "    }\n",
              "\n",
              "    .dataframe thead th {\n",
              "        text-align: right;\n",
              "    }\n",
              "</style>\n",
              "<table border=\"1\" class=\"dataframe\">\n",
              "  <thead>\n",
              "    <tr style=\"text-align: right;\">\n",
              "      <th></th>\n",
              "      <th>Channel</th>\n",
              "      <th>Region</th>\n",
              "      <th>Fresh</th>\n",
              "      <th>Milk</th>\n",
              "      <th>Grocery</th>\n",
              "      <th>Frozen</th>\n",
              "      <th>Detergents_Paper</th>\n",
              "      <th>Delicassen</th>\n",
              "    </tr>\n",
              "  </thead>\n",
              "  <tbody>\n",
              "    <tr>\n",
              "      <th>0</th>\n",
              "      <td>2</td>\n",
              "      <td>3</td>\n",
              "      <td>12669</td>\n",
              "      <td>9656</td>\n",
              "      <td>7561</td>\n",
              "      <td>214</td>\n",
              "      <td>2674</td>\n",
              "      <td>1338</td>\n",
              "    </tr>\n",
              "    <tr>\n",
              "      <th>1</th>\n",
              "      <td>2</td>\n",
              "      <td>3</td>\n",
              "      <td>7057</td>\n",
              "      <td>9810</td>\n",
              "      <td>9568</td>\n",
              "      <td>1762</td>\n",
              "      <td>3293</td>\n",
              "      <td>1776</td>\n",
              "    </tr>\n",
              "    <tr>\n",
              "      <th>2</th>\n",
              "      <td>2</td>\n",
              "      <td>3</td>\n",
              "      <td>6353</td>\n",
              "      <td>8808</td>\n",
              "      <td>7684</td>\n",
              "      <td>2405</td>\n",
              "      <td>3516</td>\n",
              "      <td>7844</td>\n",
              "    </tr>\n",
              "    <tr>\n",
              "      <th>3</th>\n",
              "      <td>1</td>\n",
              "      <td>3</td>\n",
              "      <td>13265</td>\n",
              "      <td>1196</td>\n",
              "      <td>4221</td>\n",
              "      <td>6404</td>\n",
              "      <td>507</td>\n",
              "      <td>1788</td>\n",
              "    </tr>\n",
              "    <tr>\n",
              "      <th>4</th>\n",
              "      <td>2</td>\n",
              "      <td>3</td>\n",
              "      <td>22615</td>\n",
              "      <td>5410</td>\n",
              "      <td>7198</td>\n",
              "      <td>3915</td>\n",
              "      <td>1777</td>\n",
              "      <td>5185</td>\n",
              "    </tr>\n",
              "  </tbody>\n",
              "</table>\n",
              "</div>"
            ],
            "text/plain": [
              "   Channel  Region  Fresh  Milk  Grocery  Frozen  Detergents_Paper  Delicassen\n",
              "0        2       3  12669  9656     7561     214              2674        1338\n",
              "1        2       3   7057  9810     9568    1762              3293        1776\n",
              "2        2       3   6353  8808     7684    2405              3516        7844\n",
              "3        1       3  13265  1196     4221    6404               507        1788\n",
              "4        2       3  22615  5410     7198    3915              1777        5185"
            ]
          },
          "metadata": {
            "tags": []
          },
          "execution_count": 2
        }
      ]
    },
    {
      "cell_type": "markdown",
      "metadata": {
        "id": "S0mVJZbDhOVX",
        "colab_type": "text"
      },
      "source": [
        "Tipos de Objectos en Pandas:\n",
        "\n",
        "- **DataFrame:** filas y columnas (como una hoja de cálculo)\n",
        "- **Series:** una sola columna"
      ]
    },
    {
      "cell_type": "code",
      "metadata": {
        "id": "_uo60x3KhOVY",
        "colab_type": "code",
        "colab": {
          "base_uri": "https://localhost:8080/",
          "height": 204
        },
        "outputId": "baaded06-7e6a-4a09-84c0-46676c0379f7"
      },
      "source": [
        "# Muestra las últimas 5 filas\n",
        "data.tail()"
      ],
      "execution_count": 3,
      "outputs": [
        {
          "output_type": "execute_result",
          "data": {
            "text/html": [
              "<div>\n",
              "<style scoped>\n",
              "    .dataframe tbody tr th:only-of-type {\n",
              "        vertical-align: middle;\n",
              "    }\n",
              "\n",
              "    .dataframe tbody tr th {\n",
              "        vertical-align: top;\n",
              "    }\n",
              "\n",
              "    .dataframe thead th {\n",
              "        text-align: right;\n",
              "    }\n",
              "</style>\n",
              "<table border=\"1\" class=\"dataframe\">\n",
              "  <thead>\n",
              "    <tr style=\"text-align: right;\">\n",
              "      <th></th>\n",
              "      <th>Channel</th>\n",
              "      <th>Region</th>\n",
              "      <th>Fresh</th>\n",
              "      <th>Milk</th>\n",
              "      <th>Grocery</th>\n",
              "      <th>Frozen</th>\n",
              "      <th>Detergents_Paper</th>\n",
              "      <th>Delicassen</th>\n",
              "    </tr>\n",
              "  </thead>\n",
              "  <tbody>\n",
              "    <tr>\n",
              "      <th>435</th>\n",
              "      <td>1</td>\n",
              "      <td>3</td>\n",
              "      <td>29703</td>\n",
              "      <td>12051</td>\n",
              "      <td>16027</td>\n",
              "      <td>13135</td>\n",
              "      <td>182</td>\n",
              "      <td>2204</td>\n",
              "    </tr>\n",
              "    <tr>\n",
              "      <th>436</th>\n",
              "      <td>1</td>\n",
              "      <td>3</td>\n",
              "      <td>39228</td>\n",
              "      <td>1431</td>\n",
              "      <td>764</td>\n",
              "      <td>4510</td>\n",
              "      <td>93</td>\n",
              "      <td>2346</td>\n",
              "    </tr>\n",
              "    <tr>\n",
              "      <th>437</th>\n",
              "      <td>2</td>\n",
              "      <td>3</td>\n",
              "      <td>14531</td>\n",
              "      <td>15488</td>\n",
              "      <td>30243</td>\n",
              "      <td>437</td>\n",
              "      <td>14841</td>\n",
              "      <td>1867</td>\n",
              "    </tr>\n",
              "    <tr>\n",
              "      <th>438</th>\n",
              "      <td>1</td>\n",
              "      <td>3</td>\n",
              "      <td>10290</td>\n",
              "      <td>1981</td>\n",
              "      <td>2232</td>\n",
              "      <td>1038</td>\n",
              "      <td>168</td>\n",
              "      <td>2125</td>\n",
              "    </tr>\n",
              "    <tr>\n",
              "      <th>439</th>\n",
              "      <td>1</td>\n",
              "      <td>3</td>\n",
              "      <td>2787</td>\n",
              "      <td>1698</td>\n",
              "      <td>2510</td>\n",
              "      <td>65</td>\n",
              "      <td>477</td>\n",
              "      <td>52</td>\n",
              "    </tr>\n",
              "  </tbody>\n",
              "</table>\n",
              "</div>"
            ],
            "text/plain": [
              "     Channel  Region  Fresh  ...  Frozen  Detergents_Paper  Delicassen\n",
              "435        1       3  29703  ...   13135               182        2204\n",
              "436        1       3  39228  ...    4510                93        2346\n",
              "437        2       3  14531  ...     437             14841        1867\n",
              "438        1       3  10290  ...    1038               168        2125\n",
              "439        1       3   2787  ...      65               477          52\n",
              "\n",
              "[5 rows x 8 columns]"
            ]
          },
          "metadata": {
            "tags": []
          },
          "execution_count": 3
        }
      ]
    },
    {
      "cell_type": "code",
      "metadata": {
        "id": "bkRAuF_QhOVc",
        "colab_type": "code",
        "colab": {
          "base_uri": "https://localhost:8080/",
          "height": 34
        },
        "outputId": "ea577598-4d67-4a3a-92a3-1e9441c5ae92"
      },
      "source": [
        "# Valida la forma del DataFrame (filas, columnas)\n",
        "data.shape"
      ],
      "execution_count": 4,
      "outputs": [
        {
          "output_type": "execute_result",
          "data": {
            "text/plain": [
              "(440, 8)"
            ]
          },
          "metadata": {
            "tags": []
          },
          "execution_count": 4
        }
      ]
    },
    {
      "cell_type": "markdown",
      "metadata": {
        "colab_type": "text",
        "id": "GVxVO5mTsfKy"
      },
      "source": [
        "¿Cuáles son los atributos?\n",
        "- FRESH: gasto anual (m.u.) en productos frescos (Continuo)\n",
        "- MILK: gasto anual (m.u.) en productos lácteos (Continuo)\n",
        "- GROCERY: gasto anual (m.u.) en productos comestibles (Continuo)\n",
        "- FROZEN: gasto anual (m.u.) en productos congelados (Continuo)\n",
        "- DETERGENTS_PAPER: gasto anual (m.u.) en detergentes y productos de papel (Continuo)\n",
        "- DELICATESSEN: gasto anual (m.u.) en productos delicatessen (Continuo)\n",
        "- CHANNEL: canales de clientes - Horeca (hotel / restaurante / cafetería) o canal minorista (nominal)\n",
        "-  REGION: regiones de clientes: Lisnon, Oporto u Otros (Nominal)"
      ]
    },
    {
      "cell_type": "markdown",
      "metadata": {
        "id": "BYzl-iqXkhUC",
        "colab_type": "text"
      },
      "source": [
        "### Separación en Categoricos y Continuos"
      ]
    },
    {
      "cell_type": "code",
      "metadata": {
        "id": "cVNp0AdpkhUG",
        "colab_type": "code",
        "colab": {}
      },
      "source": [
        "categorical_features = ['Channel', 'Region']\n",
        "continuous_features = ['Fresh', 'Milk', 'Grocery', 'Frozen', 'Detergents_Paper', 'Delicassen']"
      ],
      "execution_count": 5,
      "outputs": []
    },
    {
      "cell_type": "markdown",
      "metadata": {
        "id": "3Kle1yUztY-s",
        "colab_type": "text"
      },
      "source": [
        "Podemos análisis descriptivio de los atributos continuos:"
      ]
    },
    {
      "cell_type": "code",
      "metadata": {
        "id": "nvoZrNyztcjp",
        "colab_type": "code",
        "colab": {
          "base_uri": "https://localhost:8080/",
          "height": 297
        },
        "outputId": "cd7d39e9-3e55-434d-b528-e86f7e44e589"
      },
      "source": [
        "# TODO: Imrpimir descripción de atributos con Pandas\n",
        "data[continuous_features].describe()"
      ],
      "execution_count": 7,
      "outputs": [
        {
          "output_type": "execute_result",
          "data": {
            "text/html": [
              "<div>\n",
              "<style scoped>\n",
              "    .dataframe tbody tr th:only-of-type {\n",
              "        vertical-align: middle;\n",
              "    }\n",
              "\n",
              "    .dataframe tbody tr th {\n",
              "        vertical-align: top;\n",
              "    }\n",
              "\n",
              "    .dataframe thead th {\n",
              "        text-align: right;\n",
              "    }\n",
              "</style>\n",
              "<table border=\"1\" class=\"dataframe\">\n",
              "  <thead>\n",
              "    <tr style=\"text-align: right;\">\n",
              "      <th></th>\n",
              "      <th>Fresh</th>\n",
              "      <th>Milk</th>\n",
              "      <th>Grocery</th>\n",
              "      <th>Frozen</th>\n",
              "      <th>Detergents_Paper</th>\n",
              "      <th>Delicassen</th>\n",
              "    </tr>\n",
              "  </thead>\n",
              "  <tbody>\n",
              "    <tr>\n",
              "      <th>count</th>\n",
              "      <td>440.000000</td>\n",
              "      <td>440.000000</td>\n",
              "      <td>440.000000</td>\n",
              "      <td>440.000000</td>\n",
              "      <td>440.000000</td>\n",
              "      <td>440.000000</td>\n",
              "    </tr>\n",
              "    <tr>\n",
              "      <th>mean</th>\n",
              "      <td>12000.297727</td>\n",
              "      <td>5796.265909</td>\n",
              "      <td>7951.277273</td>\n",
              "      <td>3071.931818</td>\n",
              "      <td>2881.493182</td>\n",
              "      <td>1524.870455</td>\n",
              "    </tr>\n",
              "    <tr>\n",
              "      <th>std</th>\n",
              "      <td>12647.328865</td>\n",
              "      <td>7380.377175</td>\n",
              "      <td>9503.162829</td>\n",
              "      <td>4854.673333</td>\n",
              "      <td>4767.854448</td>\n",
              "      <td>2820.105937</td>\n",
              "    </tr>\n",
              "    <tr>\n",
              "      <th>min</th>\n",
              "      <td>3.000000</td>\n",
              "      <td>55.000000</td>\n",
              "      <td>3.000000</td>\n",
              "      <td>25.000000</td>\n",
              "      <td>3.000000</td>\n",
              "      <td>3.000000</td>\n",
              "    </tr>\n",
              "    <tr>\n",
              "      <th>25%</th>\n",
              "      <td>3127.750000</td>\n",
              "      <td>1533.000000</td>\n",
              "      <td>2153.000000</td>\n",
              "      <td>742.250000</td>\n",
              "      <td>256.750000</td>\n",
              "      <td>408.250000</td>\n",
              "    </tr>\n",
              "    <tr>\n",
              "      <th>50%</th>\n",
              "      <td>8504.000000</td>\n",
              "      <td>3627.000000</td>\n",
              "      <td>4755.500000</td>\n",
              "      <td>1526.000000</td>\n",
              "      <td>816.500000</td>\n",
              "      <td>965.500000</td>\n",
              "    </tr>\n",
              "    <tr>\n",
              "      <th>75%</th>\n",
              "      <td>16933.750000</td>\n",
              "      <td>7190.250000</td>\n",
              "      <td>10655.750000</td>\n",
              "      <td>3554.250000</td>\n",
              "      <td>3922.000000</td>\n",
              "      <td>1820.250000</td>\n",
              "    </tr>\n",
              "    <tr>\n",
              "      <th>max</th>\n",
              "      <td>112151.000000</td>\n",
              "      <td>73498.000000</td>\n",
              "      <td>92780.000000</td>\n",
              "      <td>60869.000000</td>\n",
              "      <td>40827.000000</td>\n",
              "      <td>47943.000000</td>\n",
              "    </tr>\n",
              "  </tbody>\n",
              "</table>\n",
              "</div>"
            ],
            "text/plain": [
              "               Fresh          Milk  ...  Detergents_Paper    Delicassen\n",
              "count     440.000000    440.000000  ...        440.000000    440.000000\n",
              "mean    12000.297727   5796.265909  ...       2881.493182   1524.870455\n",
              "std     12647.328865   7380.377175  ...       4767.854448   2820.105937\n",
              "min         3.000000     55.000000  ...          3.000000      3.000000\n",
              "25%      3127.750000   1533.000000  ...        256.750000    408.250000\n",
              "50%      8504.000000   3627.000000  ...        816.500000    965.500000\n",
              "75%     16933.750000   7190.250000  ...       3922.000000   1820.250000\n",
              "max    112151.000000  73498.000000  ...      40827.000000  47943.000000\n",
              "\n",
              "[8 rows x 6 columns]"
            ]
          },
          "metadata": {
            "tags": []
          },
          "execution_count": 7
        }
      ]
    },
    {
      "cell_type": "markdown",
      "metadata": {
        "id": "NRQFDj5dtqZU",
        "colab_type": "text"
      },
      "source": [
        "¿En promedio donde consumieron más los clientes?"
      ]
    },
    {
      "cell_type": "markdown",
      "metadata": {
        "id": "iocQqZPrtza-",
        "colab_type": "text"
      },
      "source": [
        "### Dummies\n",
        "Para usar las características categóricas, necesitamos convertir las características categóricas a binarias usando pandas \"get dummies\". \n",
        "![Hot Encoding](https://i.imgur.com/mtimFxh.png)"
      ]
    },
    {
      "cell_type": "code",
      "metadata": {
        "id": "PjrNz0sit4X0",
        "colab_type": "code",
        "colab": {
          "base_uri": "https://localhost:8080/",
          "height": 204
        },
        "outputId": "c24ba37f-728f-42a1-950d-b9d93a99973d"
      },
      "source": [
        "for col in categorical_features:\n",
        "    dummies = pd.get_dummies(data[col], prefix=col)\n",
        "    data = pd.concat([data, dummies], axis=1)\n",
        "    data.drop(col, axis=1, inplace=True)\n",
        "    \n",
        "# TODO: Imprimir 5 primeros elementos\n",
        "data.head()"
      ],
      "execution_count": 8,
      "outputs": [
        {
          "output_type": "execute_result",
          "data": {
            "text/html": [
              "<div>\n",
              "<style scoped>\n",
              "    .dataframe tbody tr th:only-of-type {\n",
              "        vertical-align: middle;\n",
              "    }\n",
              "\n",
              "    .dataframe tbody tr th {\n",
              "        vertical-align: top;\n",
              "    }\n",
              "\n",
              "    .dataframe thead th {\n",
              "        text-align: right;\n",
              "    }\n",
              "</style>\n",
              "<table border=\"1\" class=\"dataframe\">\n",
              "  <thead>\n",
              "    <tr style=\"text-align: right;\">\n",
              "      <th></th>\n",
              "      <th>Fresh</th>\n",
              "      <th>Milk</th>\n",
              "      <th>Grocery</th>\n",
              "      <th>Frozen</th>\n",
              "      <th>Detergents_Paper</th>\n",
              "      <th>Delicassen</th>\n",
              "      <th>Channel_1</th>\n",
              "      <th>Channel_2</th>\n",
              "      <th>Region_1</th>\n",
              "      <th>Region_2</th>\n",
              "      <th>Region_3</th>\n",
              "    </tr>\n",
              "  </thead>\n",
              "  <tbody>\n",
              "    <tr>\n",
              "      <th>0</th>\n",
              "      <td>12669</td>\n",
              "      <td>9656</td>\n",
              "      <td>7561</td>\n",
              "      <td>214</td>\n",
              "      <td>2674</td>\n",
              "      <td>1338</td>\n",
              "      <td>0</td>\n",
              "      <td>1</td>\n",
              "      <td>0</td>\n",
              "      <td>0</td>\n",
              "      <td>1</td>\n",
              "    </tr>\n",
              "    <tr>\n",
              "      <th>1</th>\n",
              "      <td>7057</td>\n",
              "      <td>9810</td>\n",
              "      <td>9568</td>\n",
              "      <td>1762</td>\n",
              "      <td>3293</td>\n",
              "      <td>1776</td>\n",
              "      <td>0</td>\n",
              "      <td>1</td>\n",
              "      <td>0</td>\n",
              "      <td>0</td>\n",
              "      <td>1</td>\n",
              "    </tr>\n",
              "    <tr>\n",
              "      <th>2</th>\n",
              "      <td>6353</td>\n",
              "      <td>8808</td>\n",
              "      <td>7684</td>\n",
              "      <td>2405</td>\n",
              "      <td>3516</td>\n",
              "      <td>7844</td>\n",
              "      <td>0</td>\n",
              "      <td>1</td>\n",
              "      <td>0</td>\n",
              "      <td>0</td>\n",
              "      <td>1</td>\n",
              "    </tr>\n",
              "    <tr>\n",
              "      <th>3</th>\n",
              "      <td>13265</td>\n",
              "      <td>1196</td>\n",
              "      <td>4221</td>\n",
              "      <td>6404</td>\n",
              "      <td>507</td>\n",
              "      <td>1788</td>\n",
              "      <td>1</td>\n",
              "      <td>0</td>\n",
              "      <td>0</td>\n",
              "      <td>0</td>\n",
              "      <td>1</td>\n",
              "    </tr>\n",
              "    <tr>\n",
              "      <th>4</th>\n",
              "      <td>22615</td>\n",
              "      <td>5410</td>\n",
              "      <td>7198</td>\n",
              "      <td>3915</td>\n",
              "      <td>1777</td>\n",
              "      <td>5185</td>\n",
              "      <td>0</td>\n",
              "      <td>1</td>\n",
              "      <td>0</td>\n",
              "      <td>0</td>\n",
              "      <td>1</td>\n",
              "    </tr>\n",
              "  </tbody>\n",
              "</table>\n",
              "</div>"
            ],
            "text/plain": [
              "   Fresh  Milk  Grocery  Frozen  ...  Channel_2  Region_1  Region_2  Region_3\n",
              "0  12669  9656     7561     214  ...          1         0         0         1\n",
              "1   7057  9810     9568    1762  ...          1         0         0         1\n",
              "2   6353  8808     7684    2405  ...          1         0         0         1\n",
              "3  13265  1196     4221    6404  ...          0         0         0         1\n",
              "4  22615  5410     7198    3915  ...          1         0         0         1\n",
              "\n",
              "[5 rows x 11 columns]"
            ]
          },
          "metadata": {
            "tags": []
          },
          "execution_count": 8
        }
      ]
    },
    {
      "cell_type": "markdown",
      "metadata": {
        "id": "j5amgrnDuzRz",
        "colab_type": "text"
      },
      "source": [
        "## Procesamiento de Atributos\n",
        "Para dar igual importancia a todas las características, necesitamos escalar las características continuas. Utilizaremos MinMaxScaler de scikit-learn ya que la matriz de características es una mezcla de características binarias y continuas. Otras alternativas incluyen StandardScaler.\n",
        "\n",
        "Para cada valor en una función, MinMaxScaler resta el valor mínimo en la función y luego se divide por el rango. El rango es la diferencia entre el máximo original y el mínimo original. [Más información sobre Normalización, Standarización en Scikit learn.](https://towardsdatascience.com/scale-standardize-or-normalize-with-scikit-learn-6ccc7d176a02)"
      ]
    },
    {
      "cell_type": "code",
      "metadata": {
        "id": "17oQEPSTuyZc",
        "colab_type": "code",
        "colab": {}
      },
      "source": [
        "# TODO: Importar de que libreria proviene (scikit learn)\n",
        "from sklearn.preprocessing import MinMaxScaler\n",
        "mms = MinMaxScaler()\n",
        "mms.fit(data)\n",
        "data_transformed = mms.transform(data)"
      ],
      "execution_count": 9,
      "outputs": []
    },
    {
      "cell_type": "markdown",
      "metadata": {
        "id": "TwC1JatZwoBo",
        "colab_type": "text"
      },
      "source": [
        "#### Validar forma de la nueva data transformada"
      ]
    },
    {
      "cell_type": "code",
      "metadata": {
        "id": "T2lzSGZ8weoG",
        "colab_type": "code",
        "colab": {
          "base_uri": "https://localhost:8080/",
          "height": 34
        },
        "outputId": "0d027b0a-c4ea-4ca9-86ed-890cdabc51cc"
      },
      "source": [
        "# TODO: Validar forma de datos\n",
        "data_transformed.shape"
      ],
      "execution_count": 10,
      "outputs": [
        {
          "output_type": "execute_result",
          "data": {
            "text/plain": [
              "(440, 11)"
            ]
          },
          "metadata": {
            "tags": []
          },
          "execution_count": 10
        }
      ]
    },
    {
      "cell_type": "markdown",
      "metadata": {
        "id": "2CVGC3DavdA0",
        "colab_type": "text"
      },
      "source": [
        "## ¿Cuál es el valor de K?\n",
        "Para cada valor de k, inicializaremos k-medias y usaremos el atributo de inercia para identificar la suma de las distancias al cuadrado de las muestras al centro del grupo más cercano."
      ]
    },
    {
      "cell_type": "code",
      "metadata": {
        "id": "ek3CFGM6voOm",
        "colab_type": "code",
        "colab": {}
      },
      "source": [
        "# TODO: Importar modelo\n",
        "from sklearn.cluster import KMeans\n",
        "\n",
        "# Calculando valores de K con Inercia\n",
        "Sum_of_squared_distances = []\n",
        "K = range(1,15)\n",
        "for k in K:\n",
        "    km = KMeans(n_clusters=k)\n",
        "    km = km.fit(data_transformed)\n",
        "    Sum_of_squared_distances.append(km.inertia_)"
      ],
      "execution_count": 11,
      "outputs": []
    },
    {
      "cell_type": "markdown",
      "metadata": {
        "id": "df57V8FCv0aC",
        "colab_type": "text"
      },
      "source": [
        "A medida que k aumenta, la suma de la distancia al cuadrado tiende a cero. Imagine que establecemos k en su valor máximo n (donde n es el número de muestras) cada muestra formará su propio grupo, lo que significa que la suma de distancias al cuadrado es igual a cero."
      ]
    },
    {
      "cell_type": "markdown",
      "metadata": {
        "id": "2ZgLjsyzv9F5",
        "colab_type": "text"
      },
      "source": [
        "### Método del Codo"
      ]
    },
    {
      "cell_type": "code",
      "metadata": {
        "id": "ZtjpgdMVvz2M",
        "colab_type": "code",
        "colab": {
          "base_uri": "https://localhost:8080/",
          "height": 295
        },
        "outputId": "f34a5ae9-ee71-4d60-97ab-e90543820d15"
      },
      "source": [
        "# TODO: Importar la libreria para gráfica (matplotlib) en su común forma\n",
        "import matplotlib.pyplot as plt\n",
        "\n",
        "plt.plot(K, Sum_of_squared_distances, 'bx-')\n",
        "plt.xlabel('k')\n",
        "plt.ylabel('Sum_of_squared_distances')\n",
        "plt.title('Elbow Method For Optimal k')\n",
        "plt.show()"
      ],
      "execution_count": 12,
      "outputs": [
        {
          "output_type": "display_data",
          "data": {
            "image/png": "[encoded data removed]",
            "text/plain": [
              "<Figure size 432x288 with 1 Axes>"
            ]
          },
          "metadata": {
            "tags": [],
            "needs_background": "light"
          }
        }
      ]
    },
    {
      "cell_type": "markdown",
      "metadata": {
        "id": "JHdw3qgxwGFg",
        "colab_type": "text"
      },
      "source": [
        "En la gráfica de arriba, el codo está en k=5, lo que indica que la **k óptima para este conjunto de datos es 5.**"
      ]
    },
    {
      "cell_type": "markdown",
      "metadata": {
        "id": "OHpNuVfSyK2t",
        "colab_type": "text"
      },
      "source": [
        "# Sin Supervisión: Clustering 2"
      ]
    },
    {
      "cell_type": "markdown",
      "metadata": {
        "id": "RYe7mazSk_b8",
        "colab_type": "text"
      },
      "source": [
        "## K-means en digitos\n",
        "\n",
        "Aquí intentaremos usar k-means para tratar de identificar dígitos similares sin usar la información de la etiqueta original; Esto podría ser similar a un primer paso para extraer el significado de un nuevo conjunto de datos sobre el que no tiene ninguna información de etiqueta a priori.\n",
        "\n",
        "Comenzaremos cargando los dígitos y luego encontrando los grupos \"KMeans\".\n",
        "Recuerde que los dígitos consisten en 1,797 muestras con 64 características, donde cada una de las 64 características es el brillo de un píxel en una imagen de 8 × 8:"
      ]
    },
    {
      "cell_type": "code",
      "metadata": {
        "id": "VXwqL5Xak_b9",
        "colab_type": "code",
        "colab": {
          "base_uri": "https://localhost:8080/",
          "height": 34
        },
        "outputId": "ce182c90-1a11-461f-d190-5d1fab6eff7f"
      },
      "source": [
        "from sklearn.datasets import load_digits\n",
        "digits = load_digits()\n",
        "digits.data.shape"
      ],
      "execution_count": 13,
      "outputs": [
        {
          "output_type": "execute_result",
          "data": {
            "text/plain": [
              "(1797, 64)"
            ]
          },
          "metadata": {
            "tags": []
          },
          "execution_count": 13
        }
      ]
    },
    {
      "cell_type": "markdown",
      "metadata": {
        "id": "Cszq3H0Jk_cA",
        "colab_type": "text"
      },
      "source": [
        "La agrupación se puede realizar como lo hicimos antes:"
      ]
    },
    {
      "cell_type": "code",
      "metadata": {
        "id": "wkVudgJnk_cB",
        "colab_type": "code",
        "colab": {
          "base_uri": "https://localhost:8080/",
          "height": 34
        },
        "outputId": "3f40ded7-95ad-441e-ba55-12a4b56fbf9b"
      },
      "source": [
        "# TODO: Importar modelo\n",
        "from sklearn.cluster import KMeans\n",
        "\n",
        "# TODO: Instanciar modelo\n",
        "kmeans = KMeans(n_clusters=10, random_state=0)\n",
        "\n",
        "# Entrenar modelo y predecir de manera instantea\n",
        "clusters = kmeans.fit_predict(digits.data)\n",
        "\n",
        "# Validar forma de centroids\n",
        "kmeans.cluster_centers_.shape"
      ],
      "execution_count": 15,
      "outputs": [
        {
          "output_type": "execute_result",
          "data": {
            "text/plain": [
              "(10, 64)"
            ]
          },
          "metadata": {
            "tags": []
          },
          "execution_count": 15
        }
      ]
    },
    {
      "cell_type": "markdown",
      "metadata": {
        "id": "vyqwaCAKk_cE",
        "colab_type": "text"
      },
      "source": [
        "El resultado son 10 grupos en 64 dimensiones.\n",
        "Observe que los centros del clúster son puntos de 64 dimensiones y pueden interpretarse como el dígito \"típico\" dentro del clúster.\n",
        "Veamos cómo se ven estos centros de clúster:"
      ]
    },
    {
      "cell_type": "code",
      "metadata": {
        "id": "Ufwqa8h9k_cF",
        "colab_type": "code",
        "colab": {
          "base_uri": "https://localhost:8080/",
          "height": 197
        },
        "outputId": "b092aa48-8893-4150-f72b-fbeba5bd905c"
      },
      "source": [
        "import matplotlib.pyplot as plt\n",
        "\n",
        "fig, ax = plt.subplots(2, 5, figsize=(8, 3))\n",
        "centers = kmeans.cluster_centers_.reshape(10, 8, 8)\n",
        "for axi, center in zip(ax.flat, centers):\n",
        "    axi.set(xticks=[], yticks=[])\n",
        "    axi.imshow(center, interpolation='nearest', cmap=plt.cm.binary)"
      ],
      "execution_count": 16,
      "outputs": [
        {
          "output_type": "display_data",
          "data": {
            "image/png": "[encoded data removed]",
            "text/plain": [
              "<Figure size 576x216 with 10 Axes>"
            ]
          },
          "metadata": {
            "tags": []
          }
        }
      ]
    },
    {
      "cell_type": "markdown",
      "metadata": {
        "id": "ETjrLy-zk_cJ",
        "colab_type": "text"
      },
      "source": [
        "We see that *even without the labels*, ``KMeans`` is able to find clusters whose centers are recognizable digits, with perhaps the exception of 1 and 8.\n",
        "\n",
        "Because *k*-means knows nothing about the identity of the cluster, the 0–9 labels may be permuted.\n",
        "We can fix this by matching each learned cluster label with the true labels found in them:\n",
        "\n",
        "Vemos que incluso sin las etiquetas, \"KMeans\" es capaz de encontrar grupos cuyos centros son dígitos reconocibles, con tal vez la excepción de 1 y 8.\n",
        "\n",
        "Debido a que  k  significa que no sabe nada sobre la identidad del clúster, las etiquetas 0–9 pueden estar permutadas.\n",
        "Podemos solucionar esto haciendo coincidir cada etiqueta de clúster aprendida con las etiquetas verdaderas que se encuentran en ellas:"
      ]
    },
    {
      "cell_type": "code",
      "metadata": {
        "id": "-cs5r_qyk_cK",
        "colab_type": "code",
        "colab": {}
      },
      "source": [
        "# TODO: Importar NumPy en su manera común\n",
        "import numpy as np\n",
        "from scipy.stats import mode\n",
        "\n",
        "labels = np.zeros_like(clusters)\n",
        "for i in range(10):\n",
        "    mask = (clusters == i)\n",
        "    labels[mask] = mode(digits.target[mask])[0]"
      ],
      "execution_count": 17,
      "outputs": []
    },
    {
      "cell_type": "markdown",
      "metadata": {
        "id": "72AWW0Lmk_cM",
        "colab_type": "text"
      },
      "source": [
        "Ahora podemos verificar cuán precisos fueron nuestros clústeres no supervisados para encontrar dígitos similares dentro de los datos:"
      ]
    },
    {
      "cell_type": "code",
      "metadata": {
        "id": "15Qc5EdQk_cN",
        "colab_type": "code",
        "colab": {
          "base_uri": "https://localhost:8080/",
          "height": 34
        },
        "outputId": "53569d26-256d-4cce-e8ec-ae28fafb1a1a"
      },
      "source": [
        "# TODO: Especificar clase para calcular precisión a traves del modulo de metrics de Scikit learn\n",
        "from sklearn.metrics import accuracy_score\n",
        "accuracy_score(digits.target, labels)"
      ],
      "execution_count": 18,
      "outputs": [
        {
          "output_type": "execute_result",
          "data": {
            "text/plain": [
              "0.7952142459654981"
            ]
          },
          "metadata": {
            "tags": []
          },
          "execution_count": 18
        }
      ]
    },
    {
      "cell_type": "markdown",
      "metadata": {
        "id": "ib2th8FEk_cP",
        "colab_type": "text"
      },
      "source": [
        "¡Con un simple algoritmo de k means, descubrimos la agrupación correcta para el 80% de los dígitos de entrada!\n",
        "Vamos a ver la matriz de confusión para esto:"
      ]
    },
    {
      "cell_type": "code",
      "metadata": {
        "id": "Ftl7sEwAk_cQ",
        "colab_type": "code",
        "colab": {
          "base_uri": "https://localhost:8080/",
          "height": 319
        },
        "outputId": "0895d28a-8726-4c73-e1ba-60ef2447d348"
      },
      "source": [
        "import seaborn as sns; sns.set()\n",
        "from sklearn.metrics import confusion_matrix\n",
        "mat = confusion_matrix(digits.target, labels)\n",
        "sns.heatmap(mat.T, square=True, annot=True, fmt='d', cbar=False,\n",
        "            xticklabels=digits.target_names,\n",
        "            yticklabels=digits.target_names)\n",
        "plt.xlabel('true label')\n",
        "plt.ylabel('predicted label');"
      ],
      "execution_count": 19,
      "outputs": [
        {
          "output_type": "stream",
          "text": [
            "/usr/local/lib/python3.6/dist-packages/statsmodels/tools/_testing.py:19: FutureWarning: pandas.util.testing is deprecated. Use the functions in the public API at pandas.testing instead.\n",
            "  import pandas.util.testing as tm\n"
          ],
          "name": "stderr"
        },
        {
          "output_type": "display_data",
          "data": {
            "image/png": "[encoded data removed]",
            "text/plain": [
              "<Figure size 432x288 with 1 Axes>"
            ]
          },
          "metadata": {
            "tags": []
          }
        }
      ]
    },
    {
      "cell_type": "markdown",
      "metadata": {
        "id": "gSDseRL4k_cS",
        "colab_type": "text"
      },
      "source": [
        "Como podríamos esperar de los centros de clúster que visualizamos antes, el principal punto de confusión es entre los ochos y los unos.\n",
        "¡Pero esto todavía muestra que usando *k*-means, esencialmente podemos construir un clasificador de dígitos *sin referencia a ninguna etiqueta conocida*!"
      ]
    }
  ]
}