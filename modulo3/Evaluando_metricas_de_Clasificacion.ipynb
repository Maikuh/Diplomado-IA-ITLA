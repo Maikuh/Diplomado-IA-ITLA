{
  "nbformat": 4,
  "nbformat_minor": 0,
  "metadata": {
    "kernelspec": {
      "name": "python3",
      "display_name": "Python 3"
    },
    "colab": {
      "name": "Evaluando_métricas_de_Clasificación.ipynb",
      "provenance": [],
      "collapsed_sections": []
    }
  },
  "cells": [
    {
      "cell_type": "markdown",
      "metadata": {
        "id": "PGm-5t6AmF7Q",
        "colab_type": "text"
      },
      "source": [
        "## Introducción a Aprendizaje Automatico\n",
        "Recopilado y Traducido por Luis Martinez para Diplomado de Inteligencia Artificial en ITLA. Referencia de:  [Kevin Markham](https://github.com/mpfrush/Python-Scikit-Learn-Exercises/blob/master/09_classification_metrics.ipynb) "
      ]
    },
    {
      "cell_type": "markdown",
      "metadata": {
        "colab_type": "text",
        "id": "FR4lFh6dMtp5"
      },
      "source": [
        "## Requerimientos\n",
        "- Acceso a los cuadernos\n",
        "\n",
        "### Jupyter Notebook\n",
        "- Instalar Jupyter en PC o\n",
        "- Correr Colab en Google Drive\n",
        "\n",
        "### Instalación de Jupyter en PC\n",
        "- Instalar Anaconda\n",
        "- Si instaló Anaconda, debe tener ya Jupyter.\n",
        "- Usar pip install. \n",
        "  - \"python3 -m pip install jupyter\" para Python 3\n",
        "  - \"python -m pip install jupyter\" para Python 2\n",
        "Pueden acceder a: https://jupyter.org/install\n",
        "\n",
        "### Uso de Google Colab\n",
        "- Tener cuenta de Google\n",
        "- Acceder a su Google Drive y crear un cuaderno"
      ]
    },
    {
      "cell_type": "markdown",
      "metadata": {
        "id": "oWWv1O0453-3",
        "colab_type": "text"
      },
      "source": [
        "# Evaluando modelos de Clasificación"
      ]
    },
    {
      "cell_type": "markdown",
      "metadata": {
        "id": "goOYL4rM53-4",
        "colab_type": "text"
      },
      "source": [
        "## Agenda\n",
        "\n",
        "- ¿Cuál es el propósito de **evaluación de modelo**, y cuáles son algunos procedimientos de evaluación comunes?\n",
        "- ¿Cuál es el uso de **precisión de clasificación** y cuáles son sus limitaciones?\n",
        "- ¿Cómo describe una **matriz de confusión** el rendimiento de un clasificador?\n",
        "- ¿Qué **métricas** se pueden calcular a partir de una matriz de confusión?"
      ]
    },
    {
      "cell_type": "markdown",
      "metadata": {
        "id": "zn_-5EvR53-5",
        "colab_type": "text"
      },
      "source": [
        "## Revisión de la evaluación del modelo\n",
        "\n",
        "- Necesita una forma de elegir entre modelos: diferentes tipos de modelos, parámetros de ajuste y características\n",
        "- Utilice un **procedimiento de evaluación del modelo** para estimar qué tan bien se generalizará un modelo a los datos fuera de la muestra\n",
        "- Requiere una **métrica de evaluación del modelo** para cuantificar el rendimiento del modelo"
      ]
    },
    {
      "cell_type": "markdown",
      "metadata": {
        "id": "b3WlWklE53-6",
        "colab_type": "text"
      },
      "source": [
        " ### Procedimientos de evaluación del modelo\n",
        "\n",
        "1. **Entrenamiento y pruebas en los mismos datos**\n",
        "     - Recompensa modelos demasiado complejos que \"sobreajustan\" los datos de entrenamiento y no necesariamente generalizan\n",
        "2. **Tren / prueba dividida**\n",
        "     - Divida el conjunto de datos en dos partes, para que el modelo pueda ser entrenado y probado en diferentes datos\n",
        "     - Mejor estimación del rendimiento fuera de la muestra, pero sigue siendo una estimación de \"alta varianza\"\n",
        "     - Útil debido a su velocidad, simplicidad y flexibilidad.\n",
        "3. **Validación cruzada K-fold**\n",
        "     - Cree sistemáticamente divisiones de tren / prueba \"K\" y promedie los resultados juntos\n",
        "     - Mejor estimación del rendimiento fuera de la muestra.\n",
        "     - Corre \"K\" más lento que la división de tren / prueba"
      ]
    },
    {
      "cell_type": "markdown",
      "metadata": {
        "id": "JDEVklj353-6",
        "colab_type": "text"
      },
      "source": [
        "### Métricas de evaluación del modelo\n",
        "\n",
        "- **Problemas de regresión:** Error absoluto medio, error cuadrado medio, error cuadrado medio raíz\n",
        "- **Problemas de clasificación:** Precisión de clasificación"
      ]
    },
    {
      "cell_type": "markdown",
      "metadata": {
        "id": "DqgGpOPb53-7",
        "colab_type": "text"
      },
      "source": [
        "## Precisión de Clasificación\n",
        "\n",
        "[Pima Indian Diabetes dataset](https://archive.ics.uci.edu/ml/datasets/Pima+Indians+Diabetes) del  UCI Machine Learning Repository"
      ]
    },
    {
      "cell_type": "code",
      "metadata": {
        "id": "XyD_f0Pj53-7",
        "colab_type": "code",
        "colab": {}
      },
      "source": [
        "# Leer datos a Pandas\n",
        "import pandas as pd\n",
        "url = 'http://www.sharecsv.com/dl/72b2985c5ba652e174816867ea99abce/pima-indians-diabetes.csv'\n",
        "col_names = ['pregnant', 'glucose', 'bp', 'skin', 'insulin', 'bmi', 'pedigree', 'age', 'label']\n",
        "pima = pd.read_csv(url, header=None, names=col_names)"
      ],
      "execution_count": 1,
      "outputs": []
    },
    {
      "cell_type": "code",
      "metadata": {
        "id": "8Cth5BYA53--",
        "colab_type": "code",
        "colab": {
          "base_uri": "https://localhost:8080/",
          "height": 204
        },
        "outputId": "159ba556-f904-432b-f790-53475ac11ae4"
      },
      "source": [
        "# TODO: Imprimir los primeros 5 objetos\n",
        "pima.head()"
      ],
      "execution_count": 2,
      "outputs": [
        {
          "output_type": "execute_result",
          "data": {
            "text/html": [
              "<div>\n",
              "<style scoped>\n",
              "    .dataframe tbody tr th:only-of-type {\n",
              "        vertical-align: middle;\n",
              "    }\n",
              "\n",
              "    .dataframe tbody tr th {\n",
              "        vertical-align: top;\n",
              "    }\n",
              "\n",
              "    .dataframe thead th {\n",
              "        text-align: right;\n",
              "    }\n",
              "</style>\n",
              "<table border=\"1\" class=\"dataframe\">\n",
              "  <thead>\n",
              "    <tr style=\"text-align: right;\">\n",
              "      <th></th>\n",
              "      <th>pregnant</th>\n",
              "      <th>glucose</th>\n",
              "      <th>bp</th>\n",
              "      <th>skin</th>\n",
              "      <th>insulin</th>\n",
              "      <th>bmi</th>\n",
              "      <th>pedigree</th>\n",
              "      <th>age</th>\n",
              "      <th>label</th>\n",
              "    </tr>\n",
              "  </thead>\n",
              "  <tbody>\n",
              "    <tr>\n",
              "      <th>0</th>\n",
              "      <td>6</td>\n",
              "      <td>148</td>\n",
              "      <td>72</td>\n",
              "      <td>35</td>\n",
              "      <td>0</td>\n",
              "      <td>33.6</td>\n",
              "      <td>0.627</td>\n",
              "      <td>50</td>\n",
              "      <td>1</td>\n",
              "    </tr>\n",
              "    <tr>\n",
              "      <th>1</th>\n",
              "      <td>1</td>\n",
              "      <td>85</td>\n",
              "      <td>66</td>\n",
              "      <td>29</td>\n",
              "      <td>0</td>\n",
              "      <td>26.6</td>\n",
              "      <td>0.351</td>\n",
              "      <td>31</td>\n",
              "      <td>0</td>\n",
              "    </tr>\n",
              "    <tr>\n",
              "      <th>2</th>\n",
              "      <td>8</td>\n",
              "      <td>183</td>\n",
              "      <td>64</td>\n",
              "      <td>0</td>\n",
              "      <td>0</td>\n",
              "      <td>23.3</td>\n",
              "      <td>0.672</td>\n",
              "      <td>32</td>\n",
              "      <td>1</td>\n",
              "    </tr>\n",
              "    <tr>\n",
              "      <th>3</th>\n",
              "      <td>1</td>\n",
              "      <td>89</td>\n",
              "      <td>66</td>\n",
              "      <td>23</td>\n",
              "      <td>94</td>\n",
              "      <td>28.1</td>\n",
              "      <td>0.167</td>\n",
              "      <td>21</td>\n",
              "      <td>0</td>\n",
              "    </tr>\n",
              "    <tr>\n",
              "      <th>4</th>\n",
              "      <td>0</td>\n",
              "      <td>137</td>\n",
              "      <td>40</td>\n",
              "      <td>35</td>\n",
              "      <td>168</td>\n",
              "      <td>43.1</td>\n",
              "      <td>2.288</td>\n",
              "      <td>33</td>\n",
              "      <td>1</td>\n",
              "    </tr>\n",
              "  </tbody>\n",
              "</table>\n",
              "</div>"
            ],
            "text/plain": [
              "   pregnant  glucose  bp  skin  insulin   bmi  pedigree  age  label\n",
              "0         6      148  72    35        0  33.6     0.627   50      1\n",
              "1         1       85  66    29        0  26.6     0.351   31      0\n",
              "2         8      183  64     0        0  23.3     0.672   32      1\n",
              "3         1       89  66    23       94  28.1     0.167   21      0\n",
              "4         0      137  40    35      168  43.1     2.288   33      1"
            ]
          },
          "metadata": {
            "tags": []
          },
          "execution_count": 2
        }
      ]
    },
    {
      "cell_type": "markdown",
      "metadata": {
        "id": "a8b3ADOB53_B",
        "colab_type": "text"
      },
      "source": [
        "**Pregunta:** ¿Podemos predecir el estado de diabetes de un paciente dadas sus mediciones de salud?"
      ]
    },
    {
      "cell_type": "code",
      "metadata": {
        "id": "FPdQkMyY53_C",
        "colab_type": "code",
        "colab": {}
      },
      "source": [
        "# TODO: Define X & y\n",
        "feature_cols = ['pregnant', 'insulin', 'bmi', 'age']\n",
        "X = pima[feature_cols]\n",
        "y = pima.label"
      ],
      "execution_count": 3,
      "outputs": []
    },
    {
      "cell_type": "code",
      "metadata": {
        "id": "xNQrDnk253_E",
        "colab_type": "code",
        "colab": {}
      },
      "source": [
        "# TODO: Divide X & y en conjuntos de entrenamiento y prueba\n",
        "from sklearn.model_selection import train_test_split\n",
        "X_train, X_test, y_train, y_test = train_test_split(X, y, random_state=0)"
      ],
      "execution_count": 4,
      "outputs": []
    },
    {
      "cell_type": "code",
      "metadata": {
        "id": "SLmO459a53_F",
        "colab_type": "code",
        "colab": {
          "base_uri": "https://localhost:8080/",
          "height": 102
        },
        "outputId": "31d7778d-ae2a-401b-b5aa-c1e2e1c8e780"
      },
      "source": [
        "# TODO: Importa el modelo a usar (LogisticRegression), validar a que modulo pertenece de sklearn\n",
        "from sklearn.linear_model import LogisticRegression\n",
        "logreg = LogisticRegression()\n",
        "\n",
        "# TODO: Entrena un modelo de regresión logística en el conjunto de entrenamiento\n",
        "logreg.fit(X_train, y_train)"
      ],
      "execution_count": 9,
      "outputs": [
        {
          "output_type": "execute_result",
          "data": {
            "text/plain": [
              "LogisticRegression(C=1.0, class_weight=None, dual=False, fit_intercept=True,\n",
              "                   intercept_scaling=1, l1_ratio=None, max_iter=100,\n",
              "                   multi_class='auto', n_jobs=None, penalty='l2',\n",
              "                   random_state=None, solver='lbfgs', tol=0.0001, verbose=0,\n",
              "                   warm_start=False)"
            ]
          },
          "metadata": {
            "tags": []
          },
          "execution_count": 9
        }
      ]
    },
    {
      "cell_type": "code",
      "metadata": {
        "id": "NMXmipH553_H",
        "colab_type": "code",
        "colab": {}
      },
      "source": [
        "# TODO: Hacer predicciones de clase para el conjunto de pruebas\n",
        "y_pred_class = logreg.predict(X_test)"
      ],
      "execution_count": 10,
      "outputs": []
    },
    {
      "cell_type": "markdown",
      "metadata": {
        "id": "qMZMx6Sk53_J",
        "colab_type": "text"
      },
      "source": [
        "**Precisión de clasificación:** porcentaje de predicciones correctas"
      ]
    },
    {
      "cell_type": "code",
      "metadata": {
        "id": "TxSKRzUT53_K",
        "colab_type": "code",
        "colab": {
          "base_uri": "https://localhost:8080/",
          "height": 34
        },
        "outputId": "20c90486-c92c-471c-e14a-be6b0ee20ac3"
      },
      "source": [
        "# Calcular precisión\n",
        "# TODO: Importar clase de métricas de sklearn\n",
        "from sklearn import metrics\n",
        "print(metrics.accuracy_score(y_test, y_pred_class))"
      ],
      "execution_count": 11,
      "outputs": [
        {
          "output_type": "stream",
          "text": [
            "0.6770833333333334\n"
          ],
          "name": "stdout"
        }
      ]
    },
    {
      "cell_type": "markdown",
      "metadata": {
        "id": "X8vBITpD53_N",
        "colab_type": "text"
      },
      "source": [
        "**Precisión nula:** precisión que podría lograrse prediciendo siempre la clase más frecuente"
      ]
    },
    {
      "cell_type": "code",
      "metadata": {
        "id": "UKQiGCa853_N",
        "colab_type": "code",
        "colab": {
          "base_uri": "https://localhost:8080/",
          "height": 68
        },
        "outputId": "029c2252-8922-4b25-a3b9-480957516bda"
      },
      "source": [
        "# Examinar la distribución de clase del conjunto de pruebas (usando un método de la serie Pandas)\n",
        "y_test.value_counts()"
      ],
      "execution_count": 12,
      "outputs": [
        {
          "output_type": "execute_result",
          "data": {
            "text/plain": [
              "0    130\n",
              "1     62\n",
              "Name: label, dtype: int64"
            ]
          },
          "metadata": {
            "tags": []
          },
          "execution_count": 12
        }
      ]
    },
    {
      "cell_type": "code",
      "metadata": {
        "id": "SNPTSJVz53_P",
        "colab_type": "code",
        "colab": {
          "base_uri": "https://localhost:8080/",
          "height": 34
        },
        "outputId": "789ce490-d62e-4887-d3a4-977196270f0e"
      },
      "source": [
        "# Calcular porcentaje de unos\n",
        "y_test.mean()"
      ],
      "execution_count": 13,
      "outputs": [
        {
          "output_type": "execute_result",
          "data": {
            "text/plain": [
              "0.3229166666666667"
            ]
          },
          "metadata": {
            "tags": []
          },
          "execution_count": 13
        }
      ]
    },
    {
      "cell_type": "code",
      "metadata": {
        "id": "klWYOlP553_R",
        "colab_type": "code",
        "colab": {
          "base_uri": "https://localhost:8080/",
          "height": 34
        },
        "outputId": "75be4544-2eb7-484c-ec8f-eb9f2aeb63ad"
      },
      "source": [
        "# Calcular porcentaje de ceros\n",
        "1 - y_test.mean()"
      ],
      "execution_count": 14,
      "outputs": [
        {
          "output_type": "execute_result",
          "data": {
            "text/plain": [
              "0.6770833333333333"
            ]
          },
          "metadata": {
            "tags": []
          },
          "execution_count": 14
        }
      ]
    },
    {
      "cell_type": "code",
      "metadata": {
        "id": "JKG6zlY853_T",
        "colab_type": "code",
        "colab": {
          "base_uri": "https://localhost:8080/",
          "height": 34
        },
        "outputId": "124cedc5-c394-4802-8958-ea3d9ded59b5"
      },
      "source": [
        "# Calcular precisión nula (para problemas de clasificación binaria codificados como 0/1)\n",
        "max(y_test.mean(), 1 - y_test.mean())"
      ],
      "execution_count": 15,
      "outputs": [
        {
          "output_type": "execute_result",
          "data": {
            "text/plain": [
              "0.6770833333333333"
            ]
          },
          "metadata": {
            "tags": []
          },
          "execution_count": 15
        }
      ]
    },
    {
      "cell_type": "code",
      "metadata": {
        "id": "xdXVXaBi53_V",
        "colab_type": "code",
        "colab": {
          "base_uri": "https://localhost:8080/",
          "height": 51
        },
        "outputId": "001620d7-b1aa-414a-f904-b5ba4f5c62c4"
      },
      "source": [
        "# Calcular la precisión nula (para problemas de clasificación de varias clases)\n",
        "y_test.value_counts().head(1) / len(y_test)"
      ],
      "execution_count": 16,
      "outputs": [
        {
          "output_type": "execute_result",
          "data": {
            "text/plain": [
              "0    0.677083\n",
              "Name: label, dtype: float64"
            ]
          },
          "metadata": {
            "tags": []
          },
          "execution_count": 16
        }
      ]
    },
    {
      "cell_type": "markdown",
      "metadata": {
        "id": "3gzYxYg153_X",
        "colab_type": "text"
      },
      "source": [
        "Comparando los valores de respuesta/clases **verdadero** y **pronosticado**"
      ]
    },
    {
      "cell_type": "code",
      "metadata": {
        "id": "cZy5Oqvv53_X",
        "colab_type": "code",
        "colab": {
          "base_uri": "https://localhost:8080/",
          "height": 51
        },
        "outputId": "a0a05058-a9e3-47c9-c7b7-1e198310da55"
      },
      "source": [
        "# Imprime las primeras 25 respuestas verdaderas y pronosticadas\n",
        "print('True:', y_test.values[0:25])\n",
        "print('Pred:', y_pred_class[0:25])"
      ],
      "execution_count": 17,
      "outputs": [
        {
          "output_type": "stream",
          "text": [
            "True: [1 0 0 1 0 0 1 1 0 0 1 1 0 0 0 0 1 0 0 0 1 1 0 0 0]\n",
            "Pred: [0 0 0 0 0 0 0 1 0 1 0 1 0 0 0 0 0 0 0 0 0 0 0 0 0]\n"
          ],
          "name": "stdout"
        }
      ]
    },
    {
      "cell_type": "markdown",
      "metadata": {
        "id": "dRYFc2QR53_Z",
        "colab_type": "text"
      },
      "source": [
        "**Conclusión:**\n",
        "\n",
        "- La precisión de clasificación es la **métrica de clasificación más fácil de entender**\n",
        "- Pero, no le dice la **distribución subyacente** de los valores de respuesta\n",
        "- Y, no le dice qué **tipos de errores** está haciendo su clasificador"
      ]
    },
    {
      "cell_type": "markdown",
      "metadata": {
        "id": "oTkEeXiO53_a",
        "colab_type": "text"
      },
      "source": [
        "## Matriz de Confusión\n",
        "\n",
        "Tabla que describe el rendimiento de un modelo de clasificación."
      ]
    },
    {
      "cell_type": "code",
      "metadata": {
        "id": "0GsRcwhQ53_a",
        "colab_type": "code",
        "colab": {
          "base_uri": "https://localhost:8080/",
          "height": 51
        },
        "outputId": "4d0b702e-55b6-4043-f350-6bab0d377276"
      },
      "source": [
        "# IMPORTANTE: el primer argumento son valores verdaderos, el segundo argumento son valores predichos\n",
        "\n",
        "# TODO: Especificar metodo para obtener la Matriz de Confusión\n",
        "print(metrics.confusion_matrix(y_test, y_pred_class))"
      ],
      "execution_count": 18,
      "outputs": [
        {
          "output_type": "stream",
          "text": [
            "[[114  16]\n",
            " [ 46  16]]\n"
          ],
          "name": "stdout"
        }
      ]
    },
    {
      "cell_type": "markdown",
      "metadata": {
        "id": "4mibeuli53_c",
        "colab_type": "text"
      },
      "source": [
        "![Small confusion matrix](https://github.com/mpfrush/Python-Scikit-Learn-Exercises/raw/0e26828604b503f0d66a5966de1dce57e5e88c2a/images/09_confusion_matrix_1.png)"
      ]
    },
    {
      "cell_type": "markdown",
      "metadata": {
        "id": "4Cuv47oB53_j",
        "colab_type": "text"
      },
      "source": [
        "- Cada observación en el conjunto de prueba se representa en **exactamente un cuadro**\n",
        "- Es una matriz de 2x2 porque hay **2 clases de respuesta**\n",
        "- El formato que se muestra aquí **no** es universal"
      ]
    },
    {
      "cell_type": "markdown",
      "metadata": {
        "id": "IG7YQMoP53_k",
        "colab_type": "text"
      },
      "source": [
        "**Basic terminology**\n",
        "\n",
        "- **True Positives (TP):** we *correctly* predicted that they *do* have diabetes\n",
        "- **True Negatives (TN):** we *correctly* predicted that they *don't* have diabetes\n",
        "- **False Positives (FP):** we *incorrectly* predicted that they *do* have diabetes (a \"Type I error\")\n",
        "- **False Negatives (FN):** we *incorrectly* predicted that they *don't* have diabetes (a \"Type II error\")\n",
        "\n",
        "**Terminología básica**\n",
        "\n",
        "- **Positivos verdaderos (TP):** nosotros *correctamente* predijimos que *tienen* diabetes\n",
        "- **Verdaderos negativos (TN):** nosotros *correctamente* predijimos que *no* tienen diabetes\n",
        "- **Positivos falsos (FP):** nosotros *incorrectamente* predijimos que *tienen* diabetes (un \"error tipo I\")\n",
        "- **Falsos negativos (FN):** nosotros *incorrectamente* predijimos que *no* tienen diabetes (un \"error tipo II\")"
      ]
    },
    {
      "cell_type": "code",
      "metadata": {
        "id": "2i8sml4y53_l",
        "colab_type": "code",
        "colab": {
          "base_uri": "https://localhost:8080/",
          "height": 51
        },
        "outputId": "ed051fb1-352f-4118-fe6d-faf0c4459458"
      },
      "source": [
        "# Imprime las primeras 25 respuestas verdaderas y pronosticadas\n",
        "print('True:', y_test.values[0:25])\n",
        "print('Pred:', y_pred_class[0:25])"
      ],
      "execution_count": 19,
      "outputs": [
        {
          "output_type": "stream",
          "text": [
            "True: [1 0 0 1 0 0 1 1 0 0 1 1 0 0 0 0 1 0 0 0 1 1 0 0 0]\n",
            "Pred: [0 0 0 0 0 0 0 1 0 1 0 1 0 0 0 0 0 0 0 0 0 0 0 0 0]\n"
          ],
          "name": "stdout"
        }
      ]
    },
    {
      "cell_type": "code",
      "metadata": {
        "id": "35zQw0gO53_n",
        "colab_type": "code",
        "colab": {}
      },
      "source": [
        "# Salvar matriz y separar en cuatro valores\n",
        "# TODO: Especificar método para obtener la Matriz de Confusión\n",
        "confusion = metrics.confusion_matrix(y_test, y_pred_class)\n",
        "TP = confusion[1, 1]\n",
        "TN = confusion[0, 0]\n",
        "FP = confusion[0, 1]\n",
        "FN = confusion[1, 0]"
      ],
      "execution_count": 21,
      "outputs": []
    },
    {
      "cell_type": "markdown",
      "metadata": {
        "id": "LX0rBMv853_r",
        "colab_type": "text"
      },
      "source": [
        "![Large confusion matrix](https://github.com/mpfrush/Python-Scikit-Learn-Exercises/raw/0e26828604b503f0d66a5966de1dce57e5e88c2a/images/09_confusion_matrix_2.png)"
      ]
    },
    {
      "cell_type": "markdown",
      "metadata": {
        "id": "pe_M5RyY53_r",
        "colab_type": "text"
      },
      "source": [
        "## Métricas computadas desde una matriz de confusión"
      ]
    },
    {
      "cell_type": "markdown",
      "metadata": {
        "id": "Renv_gEP53_t",
        "colab_type": "text"
      },
      "source": [
        "**Precisión de clasificación:** En general, ¿con qué frecuencia es correcto el clasificador?"
      ]
    },
    {
      "cell_type": "code",
      "metadata": {
        "id": "QottVW6F53_u",
        "colab_type": "code",
        "colab": {
          "base_uri": "https://localhost:8080/",
          "height": 51
        },
        "outputId": "b3be4731-cf4c-4278-83a8-9f853331d0c5"
      },
      "source": [
        "print((TP + TN) / float(TP + TN + FP + FN))\n",
        "\n",
        "# TODO: Especificar el método para calcular precisión de clasificación de Sklearn \n",
        "print(metrics.accuracy_score(y_test, y_pred_class))"
      ],
      "execution_count": 23,
      "outputs": [
        {
          "output_type": "stream",
          "text": [
            "0.6770833333333334\n",
            "0.6770833333333334\n"
          ],
          "name": "stdout"
        }
      ]
    },
    {
      "cell_type": "markdown",
      "metadata": {
        "id": "kLi8F_sB53_w",
        "colab_type": "text"
      },
      "source": [
        "**Error de clasificación:** En general, ¿con qué frecuencia es incorrecto el clasificador?\n",
        "\n",
        "- También conocido como \"Tasa de clasificación errónea o Misclassification Rate\""
      ]
    },
    {
      "cell_type": "code",
      "metadata": {
        "id": "CQKdpIaD53_w",
        "colab_type": "code",
        "colab": {
          "base_uri": "https://localhost:8080/",
          "height": 51
        },
        "outputId": "493cac30-9ea5-4497-805c-ea3f948c73ab"
      },
      "source": [
        "print((FP + FN) / float(TP + TN + FP + FN))\n",
        "\n",
        "# TODO: Especificar el método para calcular precisión de clasificación de Sklearn \n",
        "print(1 - metrics.accuracy_score(y_test, y_pred_class))"
      ],
      "execution_count": 26,
      "outputs": [
        {
          "output_type": "stream",
          "text": [
            "0.3229166666666667\n",
            "0.32291666666666663\n"
          ],
          "name": "stdout"
        }
      ]
    },
    {
      "cell_type": "markdown",
      "metadata": {
        "id": "gEPGm8Bo53_y",
        "colab_type": "text"
      },
      "source": [
        "**Sensibilidad:** Cuando el valor real es positivo, ¿con qué frecuencia es correcta la predicción?\n",
        "\n",
        "- ¿Cuán \"sensible\" es el clasificador para detectar instancias positivas?\n",
        "- También conocido como \"Tasa Positiva Verdadera\" o \"Recuperación\" o \"True Positive Rate\" o \"Recall\""
      ]
    },
    {
      "cell_type": "code",
      "metadata": {
        "id": "3YMAwtEm53_z",
        "colab_type": "code",
        "colab": {
          "base_uri": "https://localhost:8080/",
          "height": 51
        },
        "outputId": "9a5a7e8b-7a4a-427d-f815-7ae0da32c3ec"
      },
      "source": [
        "print(TP / float(TP + FN))\n",
        "print(metrics.recall_score(y_test, y_pred_class))"
      ],
      "execution_count": 27,
      "outputs": [
        {
          "output_type": "stream",
          "text": [
            "0.25806451612903225\n",
            "0.25806451612903225\n"
          ],
          "name": "stdout"
        }
      ]
    },
    {
      "cell_type": "markdown",
      "metadata": {
        "id": "LyH-WYmY53_1",
        "colab_type": "text"
      },
      "source": [
        "**Especificidad:** Cuando el valor real es negativo, ¿con qué frecuencia es correcta la predicción?\n",
        "\n",
        "- ¿Cuán \"específico\" (o \"selectivo\") es el clasificador al predecir instancias positivas?"
      ]
    },
    {
      "cell_type": "code",
      "metadata": {
        "id": "8OqZ-17Y53_2",
        "colab_type": "code",
        "colab": {
          "base_uri": "https://localhost:8080/",
          "height": 34
        },
        "outputId": "9e1dcde6-e188-4f7d-9917-742f57848fc3"
      },
      "source": [
        "print(TN / float(TN + FP))"
      ],
      "execution_count": 28,
      "outputs": [
        {
          "output_type": "stream",
          "text": [
            "0.8769230769230769\n"
          ],
          "name": "stdout"
        }
      ]
    },
    {
      "cell_type": "markdown",
      "metadata": {
        "id": "u066rcId53_4",
        "colab_type": "text"
      },
      "source": [
        "**Tasa de falso positivo:** Cuando el valor real es negativo, ¿con qué frecuencia es incorrecta la predicción?"
      ]
    },
    {
      "cell_type": "code",
      "metadata": {
        "id": "GCE7VlRB53_4",
        "colab_type": "code",
        "colab": {
          "base_uri": "https://localhost:8080/",
          "height": 34
        },
        "outputId": "8b85bce6-2082-4988-eebe-bd78743a7cde"
      },
      "source": [
        "print(FP / float(TN + FP))"
      ],
      "execution_count": 29,
      "outputs": [
        {
          "output_type": "stream",
          "text": [
            "0.12307692307692308\n"
          ],
          "name": "stdout"
        }
      ]
    },
    {
      "cell_type": "markdown",
      "metadata": {
        "id": "pIUVaZ0P53_6",
        "colab_type": "text"
      },
      "source": [
        "**Precision (en ingles):** Cuando se predice un valor positivo, ¿con qué frecuencia es correcta la predicción?\n",
        "\n",
        "- ¿Cuán \"preciso\" es el clasificador al predecir instancias positivas?"
      ]
    },
    {
      "cell_type": "code",
      "metadata": {
        "id": "9ANgZcO_53_6",
        "colab_type": "code",
        "colab": {
          "base_uri": "https://localhost:8080/",
          "height": 51
        },
        "outputId": "cbd45bbd-9262-424c-dd21-ca34d25725dc"
      },
      "source": [
        "print(TP / float(TP + FP))\n",
        "print(metrics.precision_score(y_test, y_pred_class))"
      ],
      "execution_count": 30,
      "outputs": [
        {
          "output_type": "stream",
          "text": [
            "0.5\n",
            "0.5\n"
          ],
          "name": "stdout"
        }
      ]
    },
    {
      "cell_type": "markdown",
      "metadata": {
        "id": "h1CLMLUg53_8",
        "colab_type": "text"
      },
      "source": [
        "Se pueden calcular muchas otras métricas: puntaje F1, coeficiente de correlación Matthews, etc."
      ]
    },
    {
      "cell_type": "markdown",
      "metadata": {
        "id": "9wGJw8X653_8",
        "colab_type": "text"
      },
      "source": [
        "**Conclusión:**\n",
        "\n",
        "- La matriz de confusión le brinda una **imagen más completa** del rendimiento de su clasificador\n",
        "- También le permite calcular varias **métricas de clasificación**, y estas métricas pueden guiar su selección de modelo\n",
        "\n",
        "** ¿En qué métricas debes concentrarte? **\n",
        "\n",
        "- La elección de la métrica depende de su **objetivo comercial**\n",
        "- **Filtro de spam** (la clase positiva es \"spam\"): optimice para **precision (ingles) o especificidad** porque los falsos negativos (el spam va a la bandeja de entrada) son más aceptables que los falsos positivos (el spam captura el no spam) filtrar\n",
        "- **Detector de transacciones fraudulentas** (la clase positiva es \"fraude\"): Optimice para **sensibilidad** porque los falsos positivos (transacciones normales que se marcan como posibles fraudes) son más aceptables que los falsos negativos (transacciones fraudulentas que no se detectan )"
      ]
    }
  ]
}