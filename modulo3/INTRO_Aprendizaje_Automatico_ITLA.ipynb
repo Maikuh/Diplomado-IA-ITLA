{
  "nbformat": 4,
  "nbformat_minor": 0,
  "metadata": {
    "colab": {
      "name": "INTRO_Aprendizaje_Automatico_ITLA.ipynb",
      "provenance": [],
      "collapsed_sections": []
    },
    "kernelspec": {
      "name": "python3",
      "display_name": "Python 3"
    }
  },
  "cells": [
    {
      "cell_type": "markdown",
      "metadata": {
        "id": "PGm-5t6AmF7Q",
        "colab_type": "text"
      },
      "source": [
        "## Introducción a Aprendizaje Automatico\n",
        "Creado por Luis Martínez para Diplomado de Inteligencia Artificial en ITLA"
      ]
    },
    {
      "cell_type": "markdown",
      "metadata": {
        "id": "cPCYK1wa9aZ-",
        "colab_type": "text"
      },
      "source": [
        "### Información de Subida (del Estudiante)\n",
        "Nombre: Miguel Antonio Araujo"
      ]
    },
    {
      "cell_type": "markdown",
      "metadata": {
        "id": "0k-l15QRmWL2",
        "colab_type": "text"
      },
      "source": [
        "## Requerimientos\n",
        "- Acceso a los cuadernos\n",
        "\n",
        "### Jupyter Notebook\n",
        "- Instalar Jupyter en PC o\n",
        "- Correr Colab en Google Drive\n",
        "\n",
        "### Instalación de Jupyter en PC\n",
        "- Instalar Anaconda\n",
        "- Si instaló Anaconda, debe tener ya Jupyter.\n",
        "- Usar pip install. \n",
        "  - \"python3 -m pip install jupyter\" para Python 3\n",
        "  - \"python -m pip install jupyter\" para Python 2\n",
        "Pueden acceder a: https://jupyter.org/install\n",
        "\n",
        "### Uso de Google Colab\n",
        "- Tener cuenta de Google\n",
        "- Acceder a su Google Drive y crear un cuaderno"
      ]
    },
    {
      "cell_type": "markdown",
      "metadata": {
        "id": "vxKX2N9coeIG",
        "colab_type": "text"
      },
      "source": [
        "## Descargar archivos via URL"
      ]
    },
    {
      "cell_type": "code",
      "metadata": {
        "id": "85o8ldBHoV7p",
        "colab_type": "code",
        "colab": {}
      },
      "source": [
        "!wget -cq https://s3.amazonaws.com/content.udacity-data.com/courses/nd188/flower_data.zip\n",
        "!unzip -qq flower_data.zip"
      ],
      "execution_count": null,
      "outputs": []
    },
    {
      "cell_type": "markdown",
      "metadata": {
        "id": "acqdarOboiHE",
        "colab_type": "text"
      },
      "source": [
        "## Subir archivos via Navegador"
      ]
    },
    {
      "cell_type": "code",
      "metadata": {
        "id": "690a9Zj0omTk",
        "colab_type": "code",
        "colab": {
          "resources": {
            "http://localhost:8080/nbextensions/google.colab/files.js": {
              "data": "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",
              "ok": true,
              "headers": [
                [
                  "content-type",
                  "application/javascript"
                ]
              ],
              "status": 200,
              "status_text": ""
            }
          },
          "base_uri": "https://localhost:8080/",
          "height": 40
        },
        "outputId": "9ff95bf7-fb0d-4c05-fd91-59ea927fb8ca"
      },
      "source": [
        "from google.colab import files\n",
        "uploaded = files.upload()"
      ],
      "execution_count": null,
      "outputs": [
        {
          "output_type": "display_data",
          "data": {
            "text/html": [
              "\n",
              "     <input type=\"file\" id=\"files-351396e5-b49c-4a97-a918-60fcd22f9986\" name=\"files[]\" multiple disabled />\n",
              "     <output id=\"result-351396e5-b49c-4a97-a918-60fcd22f9986\">\n",
              "      Upload widget is only available when the cell has been executed in the\n",
              "      current browser session. Please rerun this cell to enable.\n",
              "      </output>\n",
              "      <script src=\"/nbextensions/google.colab/files.js\"></script> "
            ],
            "text/plain": [
              "<IPython.core.display.HTML object>"
            ]
          },
          "metadata": {
            "tags": []
          }
        }
      ]
    },
    {
      "cell_type": "markdown",
      "metadata": {
        "id": "iaEfcCe3p66o",
        "colab_type": "text"
      },
      "source": [
        "## Importar librerias\n",
        "\n",
        "Estar seguro de tener las siguientes librerias instalados (usar pip o conda):\n",
        "- matplotlib\n",
        "- pandas\n",
        "- sklearn\n",
        "- numpy\n"
      ]
    },
    {
      "cell_type": "markdown",
      "metadata": {
        "id": "vzgg_HHCq618",
        "colab_type": "text"
      },
      "source": [
        "# Programación Tradicional\n",
        "Reglas (algoritmo) usados para lograr una tarea\n",
        "Por ejemplo; clasificado de SPAM.\n"
      ]
    },
    {
      "cell_type": "code",
      "metadata": {
        "id": "evgtLh5FrCt_",
        "colab_type": "code",
        "colab": {}
      },
      "source": [
        "def spam_filter(email):\n",
        "    \"\"\"Function that labels an email as 'spam' or 'not spam'\n",
        "    \"\"\"\n",
        "    if 'Act now!' in email.contents:\n",
        "        label = 'spam'\n",
        "    elif 'hotmail.com' in email.sender:\n",
        "        label = 'spam'\n",
        "    elif email.contents.count('$') > 20:\n",
        "        label = 'spam'\n",
        "    else:\n",
        "        label = 'not spam'\n",
        "\n",
        "    return label"
      ],
      "execution_count": null,
      "outputs": []
    },
    {
      "cell_type": "markdown",
      "metadata": {
        "id": "YD0MRFNvq-vt",
        "colab_type": "text"
      },
      "source": [
        "# Aprendizaje Automático"
      ]
    },
    {
      "cell_type": "markdown",
      "metadata": {
        "id": "q5cywIxKBJT-",
        "colab_type": "text"
      },
      "source": [
        "## Estimadores en Scikit Learn"
      ]
    },
    {
      "cell_type": "code",
      "metadata": {
        "id": "3QNMhh9NBnm5",
        "colab_type": "code",
        "colab": {}
      },
      "source": [
        "from sklearn.tree import DecisionTreeClassifier, DecisionTreeRegressor\n",
        "from sklearn.neighbors import KNeighborsClassifier, KNeighborsRegressor\n",
        "from sklearn.ensemble import RandomForestClassifier, GradientBoostingRegressor\n",
        "from sklearn.svm import SVC, SVR\n",
        "from sklearn.linear_model import LinearRegression, LogisticRegression"
      ],
      "execution_count": null,
      "outputs": []
    },
    {
      "cell_type": "markdown",
      "metadata": {
        "id": "hcFgLic5FJhx",
        "colab_type": "text"
      },
      "source": [
        "Un modelo es una instancia de una de las clases estimadores"
      ]
    },
    {
      "cell_type": "code",
      "metadata": {
        "id": "I2ZTj5d-FOei",
        "colab_type": "code",
        "colab": {
          "base_uri": "https://localhost:8080/",
          "height": 68
        },
        "outputId": "006a94fc-2718-4888-afcb-b3d485ff13dd"
      },
      "source": [
        "model = KNeighborsClassifier(n_neighbors=5)\n",
        "print(model)"
      ],
      "execution_count": null,
      "outputs": [
        {
          "output_type": "stream",
          "text": [
            "KNeighborsClassifier(algorithm='auto', leaf_size=30, metric='minkowski',\n",
            "                     metric_params=None, n_jobs=None, n_neighbors=5, p=2,\n",
            "                     weights='uniform')\n"
          ],
          "name": "stdout"
        }
      ]
    },
    {
      "cell_type": "markdown",
      "metadata": {
        "id": "en5lUqId2fkp",
        "colab_type": "text"
      },
      "source": [
        "# Arbol de Decisiones\n",
        "## Importar librerias"
      ]
    },
    {
      "cell_type": "code",
      "metadata": {
        "id": "u0dhvFgE2fWB",
        "colab_type": "code",
        "colab": {}
      },
      "source": [
        "import numpy as np\n",
        "import pandas as pd\n",
        "from sklearn.model_selection import train_test_split\n",
        "from sklearn.tree import DecisionTreeClassifier\n",
        "from sklearn.metrics import accuracy_score\n",
        "from sklearn import tree"
      ],
      "execution_count": 1,
      "outputs": []
    },
    {
      "cell_type": "markdown",
      "metadata": {
        "id": "9h4G9Vpg3MIL",
        "colab_type": "text"
      },
      "source": [
        "## Importar datos"
      ]
    },
    {
      "cell_type": "code",
      "metadata": {
        "id": "NeXhXs-O3NqZ",
        "colab_type": "code",
        "colab": {
          "base_uri": "https://localhost:8080/",
          "height": 87
        },
        "outputId": "c69fe5ce-afce-4bd6-e2f0-ac0f0e0e5146"
      },
      "source": [
        "from sklearn.datasets import load_iris\n",
        "data = load_iris()\n",
        "\n",
        "X = data.data\n",
        "y = data.target\n",
        "\n",
        "print('Tamaño de X:', len(X))\n",
        "print('Tamaño de y:', len(y))\n",
        "\n",
        "print('Forma de X:', X.shape)\n",
        "print('Forma de y:', y.shape)"
      ],
      "execution_count": null,
      "outputs": [
        {
          "output_type": "stream",
          "text": [
            "Tamaño de X: 150\n",
            "Tamaño de y: 150\n",
            "Forma de X: (150, 4)\n",
            "Forma de y: (150,)\n"
          ],
          "name": "stdout"
        }
      ]
    },
    {
      "cell_type": "code",
      "metadata": {
        "id": "kVLY-IN2_mC8",
        "colab_type": "code",
        "colab": {
          "base_uri": "https://localhost:8080/",
          "height": 125
        },
        "outputId": "a4f012f3-54bd-4aa1-bcfe-45ff4fa7ae5a"
      },
      "source": [
        "print('Clases: ', y)"
      ],
      "execution_count": null,
      "outputs": [
        {
          "output_type": "stream",
          "text": [
            "Clases:  [0 0 0 0 0 0 0 0 0 0 0 0 0 0 0 0 0 0 0 0 0 0 0 0 0 0 0 0 0 0 0 0 0 0 0 0 0\n",
            " 0 0 0 0 0 0 0 0 0 0 0 0 0 1 1 1 1 1 1 1 1 1 1 1 1 1 1 1 1 1 1 1 1 1 1 1 1\n",
            " 1 1 1 1 1 1 1 1 1 1 1 1 1 1 1 1 1 1 1 1 1 1 1 1 1 1 2 2 2 2 2 2 2 2 2 2 2\n",
            " 2 2 2 2 2 2 2 2 2 2 2 2 2 2 2 2 2 2 2 2 2 2 2 2 2 2 2 2 2 2 2 2 2 2 2 2 2\n",
            " 2 2]\n"
          ],
          "name": "stdout"
        }
      ]
    },
    {
      "cell_type": "markdown",
      "metadata": {
        "id": "fH0d0y0q4tDy",
        "colab_type": "text"
      },
      "source": [
        "## Descripción de Datos"
      ]
    },
    {
      "cell_type": "code",
      "metadata": {
        "id": "gZPxdjSb4xRd",
        "colab_type": "code",
        "colab": {
          "base_uri": "https://localhost:8080/",
          "height": 72
        },
        "outputId": "f3191d95-89f5-48cd-dfc4-95a4ef0fd3b4"
      },
      "source": [
        "print('Clases: ', data.target_names)\n",
        "print('Atributos: ', data.feature_names)"
      ],
      "execution_count": null,
      "outputs": [
        {
          "output_type": "stream",
          "text": [
            "Clases:  ['setosa' 'versicolor' 'virginica']\n",
            "Atributos:  ['sepal length (cm)', 'sepal width (cm)', 'petal length (cm)', 'petal width (cm)']\n"
          ],
          "name": "stdout"
        }
      ]
    },
    {
      "cell_type": "markdown",
      "metadata": {
        "id": "Bo8osvaI5Vld",
        "colab_type": "text"
      },
      "source": [
        "## Separación en base de Entrenamiento y Prueba"
      ]
    },
    {
      "cell_type": "code",
      "metadata": {
        "id": "DKwCIfy25ZgX",
        "colab_type": "code",
        "colab": {}
      },
      "source": [
        "X_train, X_test, y_train, y_test = train_test_split(X, y, test_size = 0.3, random_state = 20)"
      ],
      "execution_count": null,
      "outputs": []
    },
    {
      "cell_type": "markdown",
      "metadata": {
        "id": "qiP5cKnV6LBa",
        "colab_type": "text"
      },
      "source": [
        "## Entrenando el Arbol de Decisiones\n",
        "\n",
        "### GINI"
      ]
    },
    {
      "cell_type": "code",
      "metadata": {
        "id": "OdAp1Cna55ef",
        "colab_type": "code",
        "colab": {
          "base_uri": "https://localhost:8080/",
          "height": 143
        },
        "outputId": "1dafd5f9-d97e-4e31-ee10-bfc676475858"
      },
      "source": [
        "clf_gini = DecisionTreeClassifier(criterion = \"gini\", random_state = 100)\n",
        "print(clf_gini)"
      ],
      "execution_count": null,
      "outputs": [
        {
          "output_type": "stream",
          "text": [
            "DecisionTreeClassifier(class_weight=None, criterion='gini', max_depth=None,\n",
            "                       max_features=None, max_leaf_nodes=None,\n",
            "                       min_impurity_decrease=0.0, min_impurity_split=None,\n",
            "                       min_samples_leaf=1, min_samples_split=2,\n",
            "                       min_weight_fraction_leaf=0.0, presort=False,\n",
            "                       random_state=100, splitter='best')\n"
          ],
          "name": "stdout"
        }
      ]
    },
    {
      "cell_type": "code",
      "metadata": {
        "id": "JN_mkgnb64B3",
        "colab_type": "code",
        "colab": {
          "base_uri": "https://localhost:8080/",
          "height": 143
        },
        "outputId": "b01b3d99-802c-43b2-de62-a24c688aa260"
      },
      "source": [
        "clf_gini.fit(X_train, y_train)"
      ],
      "execution_count": null,
      "outputs": [
        {
          "output_type": "execute_result",
          "data": {
            "text/plain": [
              "DecisionTreeClassifier(class_weight=None, criterion='gini', max_depth=None,\n",
              "                       max_features=None, max_leaf_nodes=None,\n",
              "                       min_impurity_decrease=0.0, min_impurity_split=None,\n",
              "                       min_samples_leaf=1, min_samples_split=2,\n",
              "                       min_weight_fraction_leaf=0.0, presort=False,\n",
              "                       random_state=100, splitter='best')"
            ]
          },
          "metadata": {
            "tags": []
          },
          "execution_count": 12
        }
      ]
    },
    {
      "cell_type": "markdown",
      "metadata": {
        "id": "JPB_4R4t64QW",
        "colab_type": "text"
      },
      "source": [
        "### Ploteando el árbol"
      ]
    },
    {
      "cell_type": "code",
      "metadata": {
        "id": "pCZvXl3i8zGv",
        "colab_type": "code",
        "colab": {
          "base_uri": "https://localhost:8080/",
          "height": 447
        },
        "outputId": "05e8b47f-d5be-438a-d08b-435713c06414"
      },
      "source": [
        "tree.plot_tree(clf_gini)"
      ],
      "execution_count": null,
      "outputs": [
        {
          "output_type": "execute_result",
          "data": {
            "text/plain": [
              "[Text(111.60000000000001, 195.696, 'X[2] <= 2.6\\nentropy = 0.665\\nsamples = 105\\nvalue = [37, 32, 36]'),\n",
              " Text(55.800000000000004, 152.208, 'entropy = 0.0\\nsamples = 37\\nvalue = [37, 0, 0]'),\n",
              " Text(167.4, 152.208, 'X[3] <= 1.75\\nentropy = 0.498\\nsamples = 68\\nvalue = [0, 32, 36]'),\n",
              " Text(111.60000000000001, 108.72, 'entropy = 0.0\\nsamples = 31\\nvalue = [0, 31, 0]'),\n",
              " Text(223.20000000000002, 108.72, 'X[2] <= 4.85\\nentropy = 0.053\\nsamples = 37\\nvalue = [0, 1, 36]'),\n",
              " Text(167.4, 65.232, 'X[1] <= 3.1\\nentropy = 0.444\\nsamples = 3\\nvalue = [0, 1, 2]'),\n",
              " Text(111.60000000000001, 21.744, 'entropy = 0.0\\nsamples = 2\\nvalue = [0, 0, 2]'),\n",
              " Text(223.20000000000002, 21.744, 'entropy = 0.0\\nsamples = 1\\nvalue = [0, 1, 0]'),\n",
              " Text(279.0, 65.232, 'entropy = 0.0\\nsamples = 34\\nvalue = [0, 0, 34]')]"
            ]
          },
          "metadata": {
            "tags": []
          },
          "execution_count": 14
        },
        {
          "output_type": "display_data",
          "data": {
            "image/png": "[encoded data removed]",
            "text/plain": [
              "<Figure size 432x288 with 1 Axes>"
            ]
          },
          "metadata": {
            "tags": []
          }
        }
      ]
    },
    {
      "cell_type": "markdown",
      "metadata": {
        "id": "HeEAnMtS-upm",
        "colab_type": "text"
      },
      "source": [
        "### Entropy"
      ]
    },
    {
      "cell_type": "code",
      "metadata": {
        "colab_type": "code",
        "id": "ToZk3j1I-cjF",
        "colab": {
          "base_uri": "https://localhost:8080/",
          "height": 143
        },
        "outputId": "ca2759be-3d0f-4e17-872b-46635b4c26da"
      },
      "source": [
        "clf_entropy = DecisionTreeClassifier(criterion = \"entropy\", random_state = 100)\n",
        "print(clf_entropy)"
      ],
      "execution_count": null,
      "outputs": [
        {
          "output_type": "stream",
          "text": [
            "DecisionTreeClassifier(class_weight=None, criterion='entropy', max_depth=None,\n",
            "                       max_features=None, max_leaf_nodes=None,\n",
            "                       min_impurity_decrease=0.0, min_impurity_split=None,\n",
            "                       min_samples_leaf=1, min_samples_split=2,\n",
            "                       min_weight_fraction_leaf=0.0, presort=False,\n",
            "                       random_state=100, splitter='best')\n"
          ],
          "name": "stdout"
        }
      ]
    },
    {
      "cell_type": "code",
      "metadata": {
        "colab_type": "code",
        "id": "_riAxivR-cjS",
        "colab": {
          "base_uri": "https://localhost:8080/",
          "height": 143
        },
        "outputId": "8bbc0459-fc3c-47a9-aca3-14154883fef6"
      },
      "source": [
        "clf_entropy.fit(X_train, y_train)"
      ],
      "execution_count": null,
      "outputs": [
        {
          "output_type": "execute_result",
          "data": {
            "text/plain": [
              "DecisionTreeClassifier(class_weight=None, criterion='entropy', max_depth=None,\n",
              "                       max_features=None, max_leaf_nodes=None,\n",
              "                       min_impurity_decrease=0.0, min_impurity_split=None,\n",
              "                       min_samples_leaf=1, min_samples_split=2,\n",
              "                       min_weight_fraction_leaf=0.0, presort=False,\n",
              "                       random_state=100, splitter='best')"
            ]
          },
          "metadata": {
            "tags": []
          },
          "execution_count": 16
        }
      ]
    },
    {
      "cell_type": "markdown",
      "metadata": {
        "colab_type": "text",
        "id": "6cr-Iq5b-cjZ"
      },
      "source": [
        "### Ploteando el árbol"
      ]
    },
    {
      "cell_type": "code",
      "metadata": {
        "colab_type": "code",
        "id": "Ks61Cr6E-cja",
        "colab": {
          "base_uri": "https://localhost:8080/",
          "height": 447
        },
        "outputId": "099b2006-9d63-4bd8-9b95-aa4fd0993ed1"
      },
      "source": [
        "tree.plot_tree(clf_entropy)"
      ],
      "execution_count": null,
      "outputs": [
        {
          "output_type": "execute_result",
          "data": {
            "text/plain": [
              "[Text(111.60000000000001, 195.696, 'X[2] <= 2.6\\nentropy = 1.582\\nsamples = 105\\nvalue = [37, 32, 36]'),\n",
              " Text(55.800000000000004, 152.208, 'entropy = 0.0\\nsamples = 37\\nvalue = [37, 0, 0]'),\n",
              " Text(167.4, 152.208, 'X[3] <= 1.75\\nentropy = 0.998\\nsamples = 68\\nvalue = [0, 32, 36]'),\n",
              " Text(111.60000000000001, 108.72, 'entropy = 0.0\\nsamples = 31\\nvalue = [0, 31, 0]'),\n",
              " Text(223.20000000000002, 108.72, 'X[2] <= 4.85\\nentropy = 0.179\\nsamples = 37\\nvalue = [0, 1, 36]'),\n",
              " Text(167.4, 65.232, 'X[1] <= 3.1\\nentropy = 0.918\\nsamples = 3\\nvalue = [0, 1, 2]'),\n",
              " Text(111.60000000000001, 21.744, 'entropy = 0.0\\nsamples = 2\\nvalue = [0, 0, 2]'),\n",
              " Text(223.20000000000002, 21.744, 'entropy = 0.0\\nsamples = 1\\nvalue = [0, 1, 0]'),\n",
              " Text(279.0, 65.232, 'entropy = 0.0\\nsamples = 34\\nvalue = [0, 0, 34]')]"
            ]
          },
          "metadata": {
            "tags": []
          },
          "execution_count": 17
        },
        {
          "output_type": "display_data",
          "data": {
            "image/png": "[encoded data removed]",
            "text/plain": [
              "<Figure size 432x288 with 1 Axes>"
            ]
          },
          "metadata": {
            "tags": []
          }
        }
      ]
    },
    {
      "cell_type": "markdown",
      "metadata": {
        "id": "qyR0-9mM_IWh",
        "colab_type": "text"
      },
      "source": [
        "## Predicciones\n",
        "### Individual\n",
        "Vamos a probar una entrada con 4 valores aleatorios y ver como nuestro modelo las categoriza."
      ]
    },
    {
      "cell_type": "code",
      "metadata": {
        "id": "oXEgmt6v_K-N",
        "colab_type": "code",
        "colab": {
          "base_uri": "https://localhost:8080/",
          "height": 52
        },
        "outputId": "b16067ce-85d0-4b6e-80d5-1455d9cc3d7c"
      },
      "source": [
        "pred_gini = clf_gini.predict([[2,3,4,6]])\n",
        "print('GINI', data.target_names[pred_gini])\n",
        "\n",
        "pred_entropy = clf_entropy.predict([[2,3,4,6]])\n",
        "print('ENTROPY', data.target_names[pred_entropy])"
      ],
      "execution_count": null,
      "outputs": [
        {
          "output_type": "stream",
          "text": [
            "GINI ['virginica']\n",
            "ENTROPY ['virginica']\n"
          ],
          "name": "stdout"
        }
      ]
    },
    {
      "cell_type": "markdown",
      "metadata": {
        "id": "1ctid1FiAi6H",
        "colab_type": "text"
      },
      "source": [
        "### Todos los datos"
      ]
    },
    {
      "cell_type": "code",
      "metadata": {
        "id": "jPvZv1ivAniM",
        "colab_type": "code",
        "colab": {
          "base_uri": "https://localhost:8080/",
          "height": 107
        },
        "outputId": "7d5f65f3-048d-46f7-e50e-483bdaef9fd6"
      },
      "source": [
        "y_pred_gini = clf_gini.predict(X_test)\n",
        "print('GINI', y_pred_gini)\n",
        "\n",
        "y_pred_entropy = clf_entropy.predict(X_test)\n",
        "print('ENTROPY', y_pred_entropy)"
      ],
      "execution_count": null,
      "outputs": [
        {
          "output_type": "stream",
          "text": [
            "GINI [0 1 1 1 1 1 2 0 2 0 2 1 1 0 0 2 0 1 2 1 1 2 2 0 1 1 1 0 2 1 1 1 0 0 0 1 1\n",
            " 0 1 2 1 1 0 1 1]\n",
            "ENTROPY [0 1 1 1 1 1 2 0 2 0 2 1 1 0 0 2 0 1 2 1 1 2 2 0 1 1 1 0 2 1 1 1 0 0 0 1 1\n",
            " 0 1 2 1 1 0 1 1]\n"
          ],
          "name": "stdout"
        }
      ]
    },
    {
      "cell_type": "markdown",
      "metadata": {
        "id": "fUrrguiHBdYH",
        "colab_type": "text"
      },
      "source": [
        "## Calculando rendimiento de Modelo\n",
        "### Precisión\n",
        "Función accuracy_score() será usada para imprimir la precisión del Arbol de Decision. Por precisión, queremos decir el valor de datos predecidos correctamente con respecto a todos los datos predecidos. \n",
        "\n",
        "Toma cuatro parametros:\n",
        "y_true*\n",
        "y_pred*\n",
        "normalize\n",
        "sample_weight\n",
        "\n",
        "y_true hace referencia a un arreglo de datos correctamente etiquetados\n",
        "\n",
        "y_pred hace referencia al arreglo de etiquetas retornadas por el modelo."
      ]
    },
    {
      "cell_type": "code",
      "metadata": {
        "id": "QDHoZ7G4CdHl",
        "colab_type": "code",
        "colab": {
          "base_uri": "https://localhost:8080/",
          "height": 87
        },
        "outputId": "9cd9f115-f4e8-44c9-ed04-e52784b3357f"
      },
      "source": [
        "print('Precisión GINI es: ', accuracy_score(y_test, y_pred_gini)*100)\n",
        "print('Precisión ENTRO es: ', accuracy_score(y_test, y_pred_entropy)*100)\n",
        "\n",
        "print('Precisión GINI desde estimador es: ', clf_gini.score(X_test, y_test))\n",
        "print('Precisión ENTRO desde estimador es: ', clf_entropy.score(X_test, y_test))"
      ],
      "execution_count": null,
      "outputs": [
        {
          "output_type": "stream",
          "text": [
            "Precisión GINI es:  88.88888888888889\n",
            "Precisión ENTRO es:  88.88888888888889\n",
            "Precisión GINI desde estimador es:  0.8888888888888888\n",
            "Precisión ENTRO desde estimador es:  0.8888888888888888\n"
          ],
          "name": "stdout"
        }
      ]
    }
  ]
}