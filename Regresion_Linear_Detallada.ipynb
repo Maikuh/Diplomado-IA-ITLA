{
  "nbformat": 4,
  "nbformat_minor": 0,
  "metadata": {
    "kernelspec": {
      "name": "python3",
      "display_name": "Python 3"
    },
    "colab": {
      "name": "Regresión Linear - Detallada.ipynb",
      "provenance": [],
      "collapsed_sections": []
    }
  },
  "cells": [
    {
      "cell_type": "markdown",
      "metadata": {
        "id": "PGm-5t6AmF7Q",
        "colab_type": "text"
      },
      "source": [
        "## Introducción a Aprendizaje Automatico\n",
        "Creado por [Kevin Markham](https://github.com/mpfrush/Python-Scikit-Learn-Exercises). Traducido y adaptado por Luis Martínez para Diplomado de Inteligencia Artificial en ITLA."
      ]
    },
    {
      "cell_type": "markdown",
      "metadata": {
        "colab_type": "text",
        "id": "FR4lFh6dMtp5"
      },
      "source": [
        "## Requerimientos\n",
        "- Acceso a los cuadernos\n",
        "\n",
        "### Jupyter Notebook\n",
        "- Instalar Jupyter en PC o\n",
        "- Correr Colab en Google Drive\n",
        "\n",
        "### Instalación de Jupyter en PC\n",
        "- Instalar Anaconda\n",
        "- Si instaló Anaconda, debe tener ya Jupyter.\n",
        "- Usar pip install. \n",
        "  - \"python3 -m pip install jupyter\" para Python 3\n",
        "  - \"python -m pip install jupyter\" para Python 2\n",
        "Pueden acceder a: https://jupyter.org/install\n",
        "\n",
        "### Uso de Google Colab\n",
        "- Tener cuenta de Google\n",
        "- Acceder a su Google Drive y crear un cuaderno"
      ]
    },
    {
      "cell_type": "markdown",
      "metadata": {
        "id": "iaEfcCe3p66o",
        "colab_type": "text"
      },
      "source": [
        "## Importar librerias\n",
        "\n",
        "Estar seguro de tener las siguientes librerias instalados (usar pip o conda):\n",
        "- matplotlib\n",
        "- pandas\n",
        "- sklearn\n",
        "- numpy\n"
      ]
    },
    {
      "cell_type": "markdown",
      "metadata": {
        "id": "FlB4NAFohOVJ",
        "colab_type": "text"
      },
      "source": [
        "# Regresión Linear con Scikit-learn"
      ]
    },
    {
      "cell_type": "markdown",
      "metadata": {
        "id": "taByYNHihOVK",
        "colab_type": "text"
      },
      "source": [
        "## Agenda\n",
        "\n",
        "- ¿Cómo usar la librería de Pandas para leer datos en Python?\n",
        "- ¿Qué es regresión linear y cómo funciona?\n",
        "- ¿Cómo yo entreno e interpreto una regresión linear en scikit-learn?\n",
        "- ¿Cuáles son las metricas de evaluación para problemas de regresión linear?\n",
        "- ¿Cómo eliges que atributos incluir en su modelo?"
      ]
    },
    {
      "cell_type": "markdown",
      "metadata": {
        "id": "YIfC_V7PhOVM",
        "colab_type": "text"
      },
      "source": [
        "## Tipos de aprendizaje supervisado\n",
        "\n",
        "- **Clasificación:** Predecir un valor categorico\n",
        "- **Regresión:** Predecir un valor continuo"
      ]
    },
    {
      "cell_type": "markdown",
      "metadata": {
        "id": "ECRElxp7hOVN",
        "colab_type": "text"
      },
      "source": [
        "## Leer datos con Pandas\n",
        "\n",
        "**Pandas:** popular biblioteca de Python para exploración, manipulación y análisis de datos"
      ]
    },
    {
      "cell_type": "code",
      "metadata": {
        "id": "mAmceqWnhOVO",
        "colab_type": "code",
        "colab": {}
      },
      "source": [
        "# TODO: Manera convencional de importar a Pandas\n",
        "import pandas as pd"
      ],
      "execution_count": 24,
      "outputs": []
    },
    {
      "cell_type": "code",
      "metadata": {
        "id": "NhIiBDZQhOVS",
        "colab_type": "code",
        "colab": {
          "base_uri": "https://localhost:8080/",
          "height": 204
        },
        "outputId": "3c1d716a-0e26-434e-f347-f147a83deb84"
      },
      "source": [
        "# Leer CSV directamente desde una URL y salvar resultados (Use ShareCSV)\n",
        "data = pd.read_csv('http://www.sharecsv.com/dl/64e8201b3a3aab7ab850e7386151ca56/Advertising.csv', index_col=0)\n",
        "\n",
        "# TODO: Muestra las primeras 5 filas\n",
        "data.head()"
      ],
      "execution_count": 25,
      "outputs": [
        {
          "output_type": "execute_result",
          "data": {
            "text/html": [
              "<div>\n",
              "<style scoped>\n",
              "    .dataframe tbody tr th:only-of-type {\n",
              "        vertical-align: middle;\n",
              "    }\n",
              "\n",
              "    .dataframe tbody tr th {\n",
              "        vertical-align: top;\n",
              "    }\n",
              "\n",
              "    .dataframe thead th {\n",
              "        text-align: right;\n",
              "    }\n",
              "</style>\n",
              "<table border=\"1\" class=\"dataframe\">\n",
              "  <thead>\n",
              "    <tr style=\"text-align: right;\">\n",
              "      <th></th>\n",
              "      <th>TV</th>\n",
              "      <th>Radio</th>\n",
              "      <th>Newspaper</th>\n",
              "      <th>Sales</th>\n",
              "    </tr>\n",
              "  </thead>\n",
              "  <tbody>\n",
              "    <tr>\n",
              "      <th>1</th>\n",
              "      <td>230.1</td>\n",
              "      <td>37.8</td>\n",
              "      <td>69.2</td>\n",
              "      <td>22.1</td>\n",
              "    </tr>\n",
              "    <tr>\n",
              "      <th>2</th>\n",
              "      <td>44.5</td>\n",
              "      <td>39.3</td>\n",
              "      <td>45.1</td>\n",
              "      <td>10.4</td>\n",
              "    </tr>\n",
              "    <tr>\n",
              "      <th>3</th>\n",
              "      <td>17.2</td>\n",
              "      <td>45.9</td>\n",
              "      <td>69.3</td>\n",
              "      <td>9.3</td>\n",
              "    </tr>\n",
              "    <tr>\n",
              "      <th>4</th>\n",
              "      <td>151.5</td>\n",
              "      <td>41.3</td>\n",
              "      <td>58.5</td>\n",
              "      <td>18.5</td>\n",
              "    </tr>\n",
              "    <tr>\n",
              "      <th>5</th>\n",
              "      <td>180.8</td>\n",
              "      <td>10.8</td>\n",
              "      <td>58.4</td>\n",
              "      <td>12.9</td>\n",
              "    </tr>\n",
              "  </tbody>\n",
              "</table>\n",
              "</div>"
            ],
            "text/plain": [
              "      TV  Radio  Newspaper  Sales\n",
              "1  230.1   37.8       69.2   22.1\n",
              "2   44.5   39.3       45.1   10.4\n",
              "3   17.2   45.9       69.3    9.3\n",
              "4  151.5   41.3       58.5   18.5\n",
              "5  180.8   10.8       58.4   12.9"
            ]
          },
          "metadata": {
            "tags": []
          },
          "execution_count": 25
        }
      ]
    },
    {
      "cell_type": "markdown",
      "metadata": {
        "id": "S0mVJZbDhOVX",
        "colab_type": "text"
      },
      "source": [
        "Tipos de Objectos en Pandas:\n",
        "\n",
        "- **DataFrame:** filas y columnas (como una hoja de cálculo)\n",
        "- **Series:** una sola columna"
      ]
    },
    {
      "cell_type": "code",
      "metadata": {
        "id": "_uo60x3KhOVY",
        "colab_type": "code",
        "colab": {
          "base_uri": "https://localhost:8080/",
          "height": 204
        },
        "outputId": "78baa23d-388a-4504-ec56-eb44e9ed45ad"
      },
      "source": [
        "# TODO: Muestra las últimas 5 filas\n",
        "data.tail()"
      ],
      "execution_count": 26,
      "outputs": [
        {
          "output_type": "execute_result",
          "data": {
            "text/html": [
              "<div>\n",
              "<style scoped>\n",
              "    .dataframe tbody tr th:only-of-type {\n",
              "        vertical-align: middle;\n",
              "    }\n",
              "\n",
              "    .dataframe tbody tr th {\n",
              "        vertical-align: top;\n",
              "    }\n",
              "\n",
              "    .dataframe thead th {\n",
              "        text-align: right;\n",
              "    }\n",
              "</style>\n",
              "<table border=\"1\" class=\"dataframe\">\n",
              "  <thead>\n",
              "    <tr style=\"text-align: right;\">\n",
              "      <th></th>\n",
              "      <th>TV</th>\n",
              "      <th>Radio</th>\n",
              "      <th>Newspaper</th>\n",
              "      <th>Sales</th>\n",
              "    </tr>\n",
              "  </thead>\n",
              "  <tbody>\n",
              "    <tr>\n",
              "      <th>196</th>\n",
              "      <td>38.2</td>\n",
              "      <td>3.7</td>\n",
              "      <td>13.8</td>\n",
              "      <td>7.6</td>\n",
              "    </tr>\n",
              "    <tr>\n",
              "      <th>197</th>\n",
              "      <td>94.2</td>\n",
              "      <td>4.9</td>\n",
              "      <td>8.1</td>\n",
              "      <td>9.7</td>\n",
              "    </tr>\n",
              "    <tr>\n",
              "      <th>198</th>\n",
              "      <td>177.0</td>\n",
              "      <td>9.3</td>\n",
              "      <td>6.4</td>\n",
              "      <td>12.8</td>\n",
              "    </tr>\n",
              "    <tr>\n",
              "      <th>199</th>\n",
              "      <td>283.6</td>\n",
              "      <td>42.0</td>\n",
              "      <td>66.2</td>\n",
              "      <td>25.5</td>\n",
              "    </tr>\n",
              "    <tr>\n",
              "      <th>200</th>\n",
              "      <td>232.1</td>\n",
              "      <td>8.6</td>\n",
              "      <td>8.7</td>\n",
              "      <td>13.4</td>\n",
              "    </tr>\n",
              "  </tbody>\n",
              "</table>\n",
              "</div>"
            ],
            "text/plain": [
              "        TV  Radio  Newspaper  Sales\n",
              "196   38.2    3.7       13.8    7.6\n",
              "197   94.2    4.9        8.1    9.7\n",
              "198  177.0    9.3        6.4   12.8\n",
              "199  283.6   42.0       66.2   25.5\n",
              "200  232.1    8.6        8.7   13.4"
            ]
          },
          "metadata": {
            "tags": []
          },
          "execution_count": 26
        }
      ]
    },
    {
      "cell_type": "code",
      "metadata": {
        "id": "bkRAuF_QhOVc",
        "colab_type": "code",
        "colab": {
          "base_uri": "https://localhost:8080/",
          "height": 34
        },
        "outputId": "282a0326-8a16-4c86-98fa-f6029d051c58"
      },
      "source": [
        "# TODO: Valida la forma del DataFrame (filas, columnas)\n",
        "data.shape"
      ],
      "execution_count": 27,
      "outputs": [
        {
          "output_type": "execute_result",
          "data": {
            "text/plain": [
              "(200, 4)"
            ]
          },
          "metadata": {
            "tags": []
          },
          "execution_count": 27
        }
      ]
    },
    {
      "cell_type": "markdown",
      "metadata": {
        "id": "N_BQ5RgxhOVf",
        "colab_type": "text"
      },
      "source": [
        "¿Cuáles son las características?\n",
        "- **TV:** dólares de publicidad gastados en TV para un solo producto en un mercado determinado (en miles de dólares)\n",
        "- **Radio:** dólares de publicidad gastados en Radio\n",
        "- **Periódico:** dólares publicitarios gastados en el periódico\n",
        "\n",
        "¿Cual es la respuesta/predicción?\n",
        "- **Ventas:** ventas de un solo producto en un mercado determinado (en miles de artículos)\n",
        "\n",
        "¿Qué más sabemos?\n",
        "- Debido a que la variable de respuesta es continua, este es un problema de **regresión**.\n",
        "- Hay 200 **observaciones** (representadas por las filas), y cada observación es un mercado único."
      ]
    },
    {
      "cell_type": "markdown",
      "metadata": {
        "id": "ZpkKZrRMhOVm",
        "colab_type": "text"
      },
      "source": [
        "## Regresión linear\n",
        "\n",
        "**Pros:** rápido, no requiere ajuste (tuning), altamente interpretable, bien entendido\n",
        "\n",
        "**Contras:** es poco probable que produzca la mejor precisión predictiva (supone una relación lineal entre las características y la respuesta)"
      ]
    },
    {
      "cell_type": "markdown",
      "metadata": {
        "id": "XyU0Z-IlhOVn",
        "colab_type": "text"
      },
      "source": [
        "### Forma de Regresión linear\n",
        "\n",
        "$y = \\beta_0 + \\beta_1x_1 + \\beta_2x_2 + ... + \\beta_nx_n$\n",
        "\n",
        "- $y$ es la respuesta\n",
        "- $\\beta_0$ es el intercepto\n",
        "- $\\beta_1$ es el coeficiente para $x_1$ (primer atributo)\n",
        "- $\\beta_n$ es el coeficiente para $x_n$ (atributo n)\n",
        "\n",
        "En este caso:\n",
        "\n",
        "$y = \\beta_0 + \\beta_1 \\times TV + \\beta_2 \\times Radio + \\beta_3 \\times Periodico$\n",
        "\n",
        "El valor $\\beta$ es llamado **coeficientes del modelo**. Estos valores se \"aprenden\" durante el paso de ajuste/fit del modelo utilizando el criterio de \"mínimos cuadrados\". ¡Entonces, el modelo ajustado se puede usar para hacer predicciones!"
      ]
    },
    {
      "cell_type": "markdown",
      "metadata": {
        "id": "Osyv9g39hOVo",
        "colab_type": "text"
      },
      "source": [
        "## Preparando X & y usando Pandas\n",
        "\n",
        "- scikit-learn espera X (matriz de atributos) & y (vector de clases) que sean arreglos de NumPy.\n",
        "- Como sea, pandas está desarollado sobre NumPy.\n",
        "- En consecuencia, X puede ser un DataFrame de Pandas & y puede ser una Series de Pandas!"
      ]
    },
    {
      "cell_type": "code",
      "metadata": {
        "id": "w4GyRFtAhOVp",
        "colab_type": "code",
        "colab": {
          "base_uri": "https://localhost:8080/",
          "height": 204
        },
        "outputId": "322aa1a6-a53c-4c03-83a7-eca2e6a461fc"
      },
      "source": [
        "# Crear una lista de Python de nombres de atributos\n",
        "feature_cols = ['TV', 'Radio', 'Newspaper']\n",
        "\n",
        "# TODO: Use la lista para seleccionar un subconjunto del DataFrame original\n",
        "X = data[feature_cols]\n",
        "\n",
        "# Comando equivalente para hacerlo en una linea\n",
        "X = data[['TV', 'Radio', 'Newspaper']]\n",
        "\n",
        "# TODO: Imprimir las primeras 5 filas\n",
        "X.head()"
      ],
      "execution_count": 28,
      "outputs": [
        {
          "output_type": "execute_result",
          "data": {
            "text/html": [
              "<div>\n",
              "<style scoped>\n",
              "    .dataframe tbody tr th:only-of-type {\n",
              "        vertical-align: middle;\n",
              "    }\n",
              "\n",
              "    .dataframe tbody tr th {\n",
              "        vertical-align: top;\n",
              "    }\n",
              "\n",
              "    .dataframe thead th {\n",
              "        text-align: right;\n",
              "    }\n",
              "</style>\n",
              "<table border=\"1\" class=\"dataframe\">\n",
              "  <thead>\n",
              "    <tr style=\"text-align: right;\">\n",
              "      <th></th>\n",
              "      <th>TV</th>\n",
              "      <th>Radio</th>\n",
              "      <th>Newspaper</th>\n",
              "    </tr>\n",
              "  </thead>\n",
              "  <tbody>\n",
              "    <tr>\n",
              "      <th>1</th>\n",
              "      <td>230.1</td>\n",
              "      <td>37.8</td>\n",
              "      <td>69.2</td>\n",
              "    </tr>\n",
              "    <tr>\n",
              "      <th>2</th>\n",
              "      <td>44.5</td>\n",
              "      <td>39.3</td>\n",
              "      <td>45.1</td>\n",
              "    </tr>\n",
              "    <tr>\n",
              "      <th>3</th>\n",
              "      <td>17.2</td>\n",
              "      <td>45.9</td>\n",
              "      <td>69.3</td>\n",
              "    </tr>\n",
              "    <tr>\n",
              "      <th>4</th>\n",
              "      <td>151.5</td>\n",
              "      <td>41.3</td>\n",
              "      <td>58.5</td>\n",
              "    </tr>\n",
              "    <tr>\n",
              "      <th>5</th>\n",
              "      <td>180.8</td>\n",
              "      <td>10.8</td>\n",
              "      <td>58.4</td>\n",
              "    </tr>\n",
              "  </tbody>\n",
              "</table>\n",
              "</div>"
            ],
            "text/plain": [
              "      TV  Radio  Newspaper\n",
              "1  230.1   37.8       69.2\n",
              "2   44.5   39.3       45.1\n",
              "3   17.2   45.9       69.3\n",
              "4  151.5   41.3       58.5\n",
              "5  180.8   10.8       58.4"
            ]
          },
          "metadata": {
            "tags": []
          },
          "execution_count": 28
        }
      ]
    },
    {
      "cell_type": "code",
      "metadata": {
        "id": "gOsySdCEhOVt",
        "colab_type": "code",
        "colab": {
          "base_uri": "https://localhost:8080/",
          "height": 51
        },
        "outputId": "cac39e47-d88a-4bcc-89cd-4519481aa649"
      },
      "source": [
        "# TODO: Validar el tipo y forma de X\n",
        "print(type(X))\n",
        "print(X.shape)"
      ],
      "execution_count": 29,
      "outputs": [
        {
          "output_type": "stream",
          "text": [
            "<class 'pandas.core.frame.DataFrame'>\n",
            "(200, 3)\n"
          ],
          "name": "stdout"
        }
      ]
    },
    {
      "cell_type": "code",
      "metadata": {
        "id": "j3_mglVfhOVw",
        "colab_type": "code",
        "colab": {
          "base_uri": "https://localhost:8080/",
          "height": 119
        },
        "outputId": "dfbe38d0-80b9-460b-f04d-a4e880ca7a70"
      },
      "source": [
        "# Selecciona una serie del DataFrame\n",
        "y = data['Sales']\n",
        "\n",
        "# Comando equivalente que funciona solo si el nombre de columna no tiene espacios\n",
        "y = data.Sales\n",
        "\n",
        "# TODO: Imprimir las 5 primeras filas\n",
        "y.head()"
      ],
      "execution_count": 30,
      "outputs": [
        {
          "output_type": "execute_result",
          "data": {
            "text/plain": [
              "1    22.1\n",
              "2    10.4\n",
              "3     9.3\n",
              "4    18.5\n",
              "5    12.9\n",
              "Name: Sales, dtype: float64"
            ]
          },
          "metadata": {
            "tags": []
          },
          "execution_count": 30
        }
      ]
    },
    {
      "cell_type": "code",
      "metadata": {
        "id": "z8H-SVdihOVy",
        "colab_type": "code",
        "colab": {
          "base_uri": "https://localhost:8080/",
          "height": 51
        },
        "outputId": "09d01189-4aa5-42ff-cc6f-e602d3a234c5"
      },
      "source": [
        "# TODO: Validar tipo y forma de y\n",
        "print(type(y))\n",
        "print(y.shape)"
      ],
      "execution_count": 31,
      "outputs": [
        {
          "output_type": "stream",
          "text": [
            "<class 'pandas.core.series.Series'>\n",
            "(200,)\n"
          ],
          "name": "stdout"
        }
      ]
    },
    {
      "cell_type": "markdown",
      "metadata": {
        "id": "WOR_fK1hhOV4",
        "colab_type": "text"
      },
      "source": [
        "## Separando X & y en sets de entrenamiento y prueba"
      ]
    },
    {
      "cell_type": "code",
      "metadata": {
        "id": "ooQUHS80hOV5",
        "colab_type": "code",
        "colab": {}
      },
      "source": [
        "#TODO: Importar correspondiente para separar en entrenamiento y prueba\n",
        "from sklearn.model_selection import train_test_split\n",
        "X_train, X_test, y_train, y_test = train_test_split(X, y, random_state=1)"
      ],
      "execution_count": 32,
      "outputs": []
    },
    {
      "cell_type": "code",
      "metadata": {
        "id": "XAbAGzrNhOV8",
        "colab_type": "code",
        "colab": {
          "base_uri": "https://localhost:8080/",
          "height": 85
        },
        "outputId": "e5eac2aa-ec76-43ed-d031-d26d11a63038"
      },
      "source": [
        "# Separacion por defecto es 75%/25%\n",
        "print(X_train.shape)\n",
        "print(y_train.shape)\n",
        "print(X_test.shape)\n",
        "print(y_test.shape)"
      ],
      "execution_count": 33,
      "outputs": [
        {
          "output_type": "stream",
          "text": [
            "(150, 3)\n",
            "(150,)\n",
            "(50, 3)\n",
            "(50,)\n"
          ],
          "name": "stdout"
        }
      ]
    },
    {
      "cell_type": "markdown",
      "metadata": {
        "id": "MUFqXWHRhOV-",
        "colab_type": "text"
      },
      "source": [
        "## Regresión linear en scikit-learn"
      ]
    },
    {
      "cell_type": "code",
      "metadata": {
        "id": "GqOzL0LEhOV_",
        "colab_type": "code",
        "colab": {
          "base_uri": "https://localhost:8080/",
          "height": 34
        },
        "outputId": "a22dcca0-a946-45fa-dd9f-bebfbac479dd"
      },
      "source": [
        "# TODO: Importar modelo\n",
        "from sklearn.linear_model import LinearRegression\n",
        "\n",
        "# TODO: Instanciar\n",
        "linreg = LinearRegression()\n",
        "\n",
        "# TODO: Ajustar/fit el modelo a los datos de entrenamiento (aprender los coeficientes)\n",
        "linreg.fit(X_train, y_train)"
      ],
      "execution_count": 34,
      "outputs": [
        {
          "output_type": "execute_result",
          "data": {
            "text/plain": [
              "LinearRegression(copy_X=True, fit_intercept=True, n_jobs=None, normalize=False)"
            ]
          },
          "metadata": {
            "tags": []
          },
          "execution_count": 34
        }
      ]
    },
    {
      "cell_type": "markdown",
      "metadata": {
        "id": "bgPOjzQKhOWB",
        "colab_type": "text"
      },
      "source": [
        "### Interpretar coeficientes del modelo"
      ]
    },
    {
      "cell_type": "code",
      "metadata": {
        "id": "4Afz8FcGhOWC",
        "colab_type": "code",
        "colab": {
          "base_uri": "https://localhost:8080/",
          "height": 51
        },
        "outputId": "9a3fb9d0-4d3c-4b32-fff5-aab11e229060"
      },
      "source": [
        "# Imprimir interceptos y coeficientes\n",
        "print(linreg.intercept_)\n",
        "print(linreg.coef_)"
      ],
      "execution_count": 35,
      "outputs": [
        {
          "output_type": "stream",
          "text": [
            "2.87696662231793\n",
            "[0.04656457 0.17915812 0.00345046]\n"
          ],
          "name": "stdout"
        }
      ]
    },
    {
      "cell_type": "code",
      "metadata": {
        "id": "GPeIjoLshOWF",
        "colab_type": "code",
        "colab": {
          "base_uri": "https://localhost:8080/",
          "height": 34
        },
        "outputId": "cd6bc5dc-4686-46c6-d14a-4876d61f3c62"
      },
      "source": [
        "# Par de nombre de atributos con sus coeficientes\n",
        "zip(feature_cols, linreg.coef_)"
      ],
      "execution_count": 36,
      "outputs": [
        {
          "output_type": "execute_result",
          "data": {
            "text/plain": [
              "<zip at 0x7fe34fa50948>"
            ]
          },
          "metadata": {
            "tags": []
          },
          "execution_count": 36
        }
      ]
    },
    {
      "cell_type": "markdown",
      "metadata": {
        "id": "5R6GueMihOWH",
        "colab_type": "text"
      },
      "source": [
        "$$y = 2.88 + 0.0466 \\times TV + 0.179 \\times Radio + 0.00345 \\times Newspaper$$\n",
        "\n",
        "¿Cómo interpretamos el **coeficiente de TV** (0.0466)?\n",
        "\n",
        "- Para una cantidad determinada de gasto en anuncios de radio y periódicos, **un aumento de \"unidad\" en el gasto de anuncios de televisión** se asocia con un aumento de **0.0466 \"unidad\" en ventas**.\n",
        "- O más claramente: para una cantidad dada de gasto en anuncios de radio y periódicos, **$1,000 adicionales gastados en anuncios de televisión** se asocian con un **aumento en las ventas de 46.6 artículos**.\n",
        "\n",
        "Notas importantes:\n",
        "\n",
        "- Esta es una declaración de **asociación**, no **causalidad**.\n",
        "- Si un aumento en el gasto en publicidad televisiva se asociara con una **disminución** en las ventas, $ \\ beta_1 $ sería **negativo**."
      ]
    },
    {
      "cell_type": "markdown",
      "metadata": {
        "id": "sX-zbdzQhOWI",
        "colab_type": "text"
      },
      "source": [
        "### Haciendo predicciones"
      ]
    },
    {
      "cell_type": "code",
      "metadata": {
        "id": "8M5n743IhOWJ",
        "colab_type": "code",
        "colab": {}
      },
      "source": [
        "# TODO: Hacer predicciones en el test/prueba set\n",
        "y_pred = linreg.predict(X_test)"
      ],
      "execution_count": 37,
      "outputs": []
    },
    {
      "cell_type": "markdown",
      "metadata": {
        "id": "jSSyCotQhOWN",
        "colab_type": "text"
      },
      "source": [
        "¡Necesitamos una **métrica de evaluación** para comparar nuestras predicciones con los valores reales!\n"
      ]
    },
    {
      "cell_type": "markdown",
      "metadata": {
        "id": "EiDP4RzChOWP",
        "colab_type": "text"
      },
      "source": [
        "## Modelo de métricas de evaluación para regresión\n",
        "\n",
        "Las métricas de evaluación para problemas de clasificación, como **precisión**, no son útiles para problemas de regresión. En cambio, necesitamos métricas de evaluación diseñadas para comparar valores continuos.\n",
        "\n",
        "Creemos algunas predicciones numéricas de ejemplo y calculemos **tres métricas de evaluación comunes** para problemas de regresión:"
      ]
    },
    {
      "cell_type": "code",
      "metadata": {
        "id": "Sck3AuVFhOWQ",
        "colab_type": "code",
        "colab": {}
      },
      "source": [
        "# Define valores reales y de predicción \n",
        "true = [100, 50, 30, 20]\n",
        "pred = [90, 50, 50, 30]"
      ],
      "execution_count": 38,
      "outputs": []
    },
    {
      "cell_type": "markdown",
      "metadata": {
        "id": "JbEd_cUihOWT",
        "colab_type": "text"
      },
      "source": [
        "**Mean Absolute Error/Error absoluto medio** (MAE) es la media del valor absoluto de los errores:\n",
        "\n",
        "$$\\frac 1n\\sum_{i=1}^n|y_i-\\hat{y}_i|$$"
      ]
    },
    {
      "cell_type": "code",
      "metadata": {
        "id": "fwbGggX5hOWU",
        "colab_type": "code",
        "colab": {
          "base_uri": "https://localhost:8080/",
          "height": 51
        },
        "outputId": "ff7fe610-80ab-4a03-ae74-15c0e321ad75"
      },
      "source": [
        "# Calcular MAE a mano\n",
        "print((10 + 0 + 20 + 10)/4.)\n",
        "\n",
        "# Calcular MAE usando scikit-learn\n",
        "# TODO: Importar clase de Scikit learn para metricas\n",
        "from sklearn import metrics\n",
        "print(metrics.mean_absolute_error(true, pred))"
      ],
      "execution_count": 39,
      "outputs": [
        {
          "output_type": "stream",
          "text": [
            "10.0\n",
            "10.0\n"
          ],
          "name": "stdout"
        }
      ]
    },
    {
      "cell_type": "markdown",
      "metadata": {
        "id": "YDc8jj7RhOWW",
        "colab_type": "text"
      },
      "source": [
        "**Mean Squared Error/Error cuadrado medio** (MSE) es la media de los errores al cuadrado:\n",
        "\n",
        "$$\\frac 1n\\sum_{i=1}^n(y_i-\\hat{y}_i)^2$$"
      ]
    },
    {
      "cell_type": "code",
      "metadata": {
        "id": "3MBrxD-OhOWW",
        "colab_type": "code",
        "colab": {
          "base_uri": "https://localhost:8080/",
          "height": 51
        },
        "outputId": "caded8a1-b88c-4874-84b2-dce2cca8249c"
      },
      "source": [
        "# Calcular MSE a mano\n",
        "print((10**2 + 0**2 + 20**2 + 10**2)/4.)\n",
        "\n",
        "# Calcular MSE usando scikit-learn\n",
        "# TODO: Especificar que clase de scikit learn se usa para metricas\n",
        "print(metrics.mean_squared_error(true, pred))"
      ],
      "execution_count": 40,
      "outputs": [
        {
          "output_type": "stream",
          "text": [
            "150.0\n",
            "150.0\n"
          ],
          "name": "stdout"
        }
      ]
    },
    {
      "cell_type": "markdown",
      "metadata": {
        "id": "ENisN8bBhOWb",
        "colab_type": "text"
      },
      "source": [
        "**Root Mean Squared Error/Error cuadrático medio** (RMSE) es la raíz cuadrada de la media de los errores cuadrados:\n",
        "\n",
        "$$\\sqrt{\\frac 1n\\sum_{i=1}^n(y_i-\\hat{y}_i)^2}$$"
      ]
    },
    {
      "cell_type": "code",
      "metadata": {
        "id": "n3u_YHKchOWc",
        "colab_type": "code",
        "colab": {
          "base_uri": "https://localhost:8080/",
          "height": 51
        },
        "outputId": "77449589-4f94-415f-ebf4-2d8612b9fe63"
      },
      "source": [
        "# Calcular RMSE a mano\n",
        "# TODO: Importar NumPy con su convención común y usarlo para calcular el SQRT\n",
        "import numpy as np\n",
        "print(np.sqrt((10**2 + 0**2 + 20**2 + 10**2)/4.))\n",
        "\n",
        "# Calcular RMSE usando scikit-learn\n",
        "# TODO: Especificar que clase de scikit learn se usa para metricas\n",
        "print(np.sqrt(metrics.mean_squared_error(true, pred)))"
      ],
      "execution_count": 41,
      "outputs": [
        {
          "output_type": "stream",
          "text": [
            "12.24744871391589\n",
            "12.24744871391589\n"
          ],
          "name": "stdout"
        }
      ]
    },
    {
      "cell_type": "markdown",
      "metadata": {
        "id": "LOGgNlfwhOWe",
        "colab_type": "text"
      },
      "source": [
        "Comparando estas métricas:\n",
        "\n",
        "- **MAE** es el más fácil de entender, porque es el error promedio.\n",
        "- **MSE** es más popular que MAE, porque MSE \"castiga\" errores más grandes.\n",
        "- **RMSE** es aún más popular que MSE, porque RMSE es interpretable en las unidades \"y\"."
      ]
    },
    {
      "cell_type": "markdown",
      "metadata": {
        "id": "QKwHn9cEhOWe",
        "colab_type": "text"
      },
      "source": [
        "### Computando RMSE para nuestra predición de Ventas (Sales)"
      ]
    },
    {
      "cell_type": "code",
      "metadata": {
        "id": "_fiuRmBthOWf",
        "colab_type": "code",
        "colab": {
          "base_uri": "https://localhost:8080/",
          "height": 34
        },
        "outputId": "d602df25-abb0-4689-db85-230f02b8d013"
      },
      "source": [
        "print(np.sqrt(metrics.mean_squared_error(y_test, y_pred)))"
      ],
      "execution_count": 42,
      "outputs": [
        {
          "output_type": "stream",
          "text": [
            "1.404651423032895\n"
          ],
          "name": "stdout"
        }
      ]
    },
    {
      "cell_type": "markdown",
      "metadata": {
        "id": "ilc3K6bXhOWh",
        "colab_type": "text"
      },
      "source": [
        "## Selección de Atributos\n",
        "\n",
        "¿**Newspaper** \"pertenece\" a nuestro modelo? En otras palabras, ¿mejora la calidad de nuestras predicciones?\n",
        "\n",
        "¡**eliminémoslo** del modelo y verifiquemos el RMSE!"
      ]
    },
    {
      "cell_type": "code",
      "metadata": {
        "id": "zUSYfl3ZSCMZ",
        "colab_type": "code",
        "colab": {
          "base_uri": "https://localhost:8080/",
          "height": 265
        },
        "outputId": "91d02174-8605-44ef-b4b2-157225258284"
      },
      "source": [
        "import matplotlib.pyplot as plt\n",
        "\n",
        "importance = linreg.coef_\n",
        "\n",
        "# Visualizar importancia de cada feature\n",
        "plt.bar([feature_cols[x] for x in range(len(importance))], importance)\n",
        "plt.show()"
      ],
      "execution_count": 53,
      "outputs": [
        {
          "output_type": "display_data",
          "data": {
            "image/png": "[encoded data removed]",
            "text/plain": [
              "<Figure size 432x288 with 1 Axes>"
            ]
          },
          "metadata": {
            "tags": [],
            "needs_background": "light"
          }
        }
      ]
    },
    {
      "cell_type": "code",
      "metadata": {
        "id": "PGZUfsyNhOWi",
        "colab_type": "code",
        "colab": {
          "base_uri": "https://localhost:8080/",
          "height": 34
        },
        "outputId": "27942c08-357b-40f9-c0c6-972198e319ca"
      },
      "source": [
        "# Crear una lista de Python de nombres de atributos\n",
        "feature_cols = ['TV', 'Radio']\n",
        "\n",
        "# Use la lista para seleccionar un subconjunto del DataFrame original\n",
        "X = data[feature_cols]\n",
        "\n",
        "# Seleccionar una serie del DataFrame\n",
        "y = data.Sales\n",
        "\n",
        "# TODO: Separar en entrenamiento y prueba\n",
        "X_train, X_test, y_train, y_test = train_test_split(X, y, random_state=1)\n",
        "\n",
        "# TODO: Ajustar/fit el modelo a data de entrenamiento (aprender coeficientes)\n",
        "linreg.fit(X_train, y_train)\n",
        "\n",
        "# TODO: Hacer predicciones en test/prueba\n",
        "y_pred = linreg.predict(X_test)\n",
        "\n",
        "# Computar RMSE de nuestras prediciones\n",
        "print(np.sqrt(metrics.mean_squared_error(y_test, y_pred)))"
      ],
      "execution_count": 20,
      "outputs": [
        {
          "output_type": "stream",
          "text": [
            "1.3879034699382888\n"
          ],
          "name": "stdout"
        }
      ]
    },
    {
      "cell_type": "markdown",
      "metadata": {
        "id": "m38g8bmAhOWk",
        "colab_type": "text"
      },
      "source": [
        "El RMSE **disminuyó** cuando eliminamos el Periódico/Newspaper del modelo. (El error es algo que queremos minimizar, por lo tanto, **un número menor para RMSE es mejor**.) Por lo tanto, es poco probable que esta función sea útil para predecir Ventas y deba eliminarse del modelo."
      ]
    }
  ]
}